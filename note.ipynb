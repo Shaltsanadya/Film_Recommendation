{
 "cells": [
  {
   "cell_type": "code",
   "execution_count": 15,
   "metadata": {},
   "outputs": [],
   "source": [
    "import spacy\n",
    "import numpy as np\n",
    "import pandas as pd\n",
    "import seaborn as sns\n",
    "from functools import reduce\n",
    "import matplotlib.pyplot as plt \n",
    "from sklearn.cluster import KMeans\n",
    "from sklearn.model_selection import GridSearchCV\n",
    "from sklearn.preprocessing import StandardScaler\n",
    "from sklearn.ensemble import RandomForestRegressor"
   ]
  },
  {
   "cell_type": "code",
   "execution_count": 273,
   "metadata": {},
   "outputs": [],
   "source": [
    "def fetch_poster(movie_id):\n",
    "    pattern = 'http://www.imdb.com/xml/find?json=1&nr=1&tt=on&q={movie_title}'\n",
    "    url = pattern.format(movie_title=urllib.parse.quote(movie_id))\n",
    "    r = requests.get(url)\n",
    "    res = r.json()\n",
    "    for section in ['popular','exact','substring']:\n",
    "        key = 'title_' + section \n",
    "        if key in res:\n",
    "            return res[key][0]['id']"
   ]
  },
  {
   "cell_type": "code",
   "execution_count": 16,
   "metadata": {},
   "outputs": [
    {
     "data": {
      "text/html": [
       "<div>\n",
       "<style scoped>\n",
       "    .dataframe tbody tr th:only-of-type {\n",
       "        vertical-align: middle;\n",
       "    }\n",
       "\n",
       "    .dataframe tbody tr th {\n",
       "        vertical-align: top;\n",
       "    }\n",
       "\n",
       "    .dataframe thead th {\n",
       "        text-align: right;\n",
       "    }\n",
       "</style>\n",
       "<table border=\"1\" class=\"dataframe\">\n",
       "  <thead>\n",
       "    <tr style=\"text-align: right;\">\n",
       "      <th></th>\n",
       "      <th>names</th>\n",
       "      <th>date_x</th>\n",
       "      <th>score</th>\n",
       "      <th>genre</th>\n",
       "      <th>overview</th>\n",
       "      <th>crew</th>\n",
       "      <th>orig_title</th>\n",
       "      <th>status</th>\n",
       "      <th>orig_lang</th>\n",
       "      <th>budget_x</th>\n",
       "      <th>revenue</th>\n",
       "      <th>country</th>\n",
       "    </tr>\n",
       "  </thead>\n",
       "  <tbody>\n",
       "    <tr>\n",
       "      <th>0</th>\n",
       "      <td>Creed III</td>\n",
       "      <td>03/02/2023</td>\n",
       "      <td>73.0</td>\n",
       "      <td>Drama, Action</td>\n",
       "      <td>After dominating the boxing world, Adonis Cree...</td>\n",
       "      <td>Michael B. Jordan, Adonis Creed, Tessa Thompso...</td>\n",
       "      <td>Creed III</td>\n",
       "      <td>Released</td>\n",
       "      <td>English</td>\n",
       "      <td>75000000.0</td>\n",
       "      <td>2.716167e+08</td>\n",
       "      <td>AU</td>\n",
       "    </tr>\n",
       "    <tr>\n",
       "      <th>1</th>\n",
       "      <td>Avatar: The Way of Water</td>\n",
       "      <td>12/15/2022</td>\n",
       "      <td>78.0</td>\n",
       "      <td>Science Fiction, Adventure, Action</td>\n",
       "      <td>Set more than a decade after the events of the...</td>\n",
       "      <td>Sam Worthington, Jake Sully, Zoe Saldaña, Neyt...</td>\n",
       "      <td>Avatar: The Way of Water</td>\n",
       "      <td>Released</td>\n",
       "      <td>English</td>\n",
       "      <td>460000000.0</td>\n",
       "      <td>2.316795e+09</td>\n",
       "      <td>AU</td>\n",
       "    </tr>\n",
       "    <tr>\n",
       "      <th>2</th>\n",
       "      <td>The Super Mario Bros. Movie</td>\n",
       "      <td>04/05/2023</td>\n",
       "      <td>76.0</td>\n",
       "      <td>Animation, Adventure, Family, Fantasy, Comedy</td>\n",
       "      <td>While working underground to fix a water main,...</td>\n",
       "      <td>Chris Pratt, Mario (voice), Anya Taylor-Joy, P...</td>\n",
       "      <td>The Super Mario Bros. Movie</td>\n",
       "      <td>Released</td>\n",
       "      <td>English</td>\n",
       "      <td>100000000.0</td>\n",
       "      <td>7.244590e+08</td>\n",
       "      <td>AU</td>\n",
       "    </tr>\n",
       "    <tr>\n",
       "      <th>3</th>\n",
       "      <td>Mummies</td>\n",
       "      <td>01/05/2023</td>\n",
       "      <td>70.0</td>\n",
       "      <td>Animation, Comedy, Family, Adventure, Fantasy</td>\n",
       "      <td>Through a series of unfortunate events, three ...</td>\n",
       "      <td>Óscar Barberán, Thut (voice), Ana Esther Albor...</td>\n",
       "      <td>Momias</td>\n",
       "      <td>Released</td>\n",
       "      <td>Spanish, Castilian</td>\n",
       "      <td>12300000.0</td>\n",
       "      <td>3.420000e+07</td>\n",
       "      <td>AU</td>\n",
       "    </tr>\n",
       "    <tr>\n",
       "      <th>4</th>\n",
       "      <td>Supercell</td>\n",
       "      <td>03/17/2023</td>\n",
       "      <td>61.0</td>\n",
       "      <td>Action</td>\n",
       "      <td>Good-hearted teenager William always lived in ...</td>\n",
       "      <td>Skeet Ulrich, Roy Cameron, Anne Heche, Dr Quin...</td>\n",
       "      <td>Supercell</td>\n",
       "      <td>Released</td>\n",
       "      <td>English</td>\n",
       "      <td>77000000.0</td>\n",
       "      <td>3.409420e+08</td>\n",
       "      <td>US</td>\n",
       "    </tr>\n",
       "  </tbody>\n",
       "</table>\n",
       "</div>"
      ],
      "text/plain": [
       "                         names       date_x  score   \n",
       "0                    Creed III  03/02/2023    73.0  \\\n",
       "1     Avatar: The Way of Water  12/15/2022    78.0   \n",
       "2  The Super Mario Bros. Movie  04/05/2023    76.0   \n",
       "3                      Mummies  01/05/2023    70.0   \n",
       "4                    Supercell  03/17/2023    61.0   \n",
       "\n",
       "                                           genre   \n",
       "0                                  Drama, Action  \\\n",
       "1             Science Fiction, Adventure, Action   \n",
       "2  Animation, Adventure, Family, Fantasy, Comedy   \n",
       "3  Animation, Comedy, Family, Adventure, Fantasy   \n",
       "4                                         Action   \n",
       "\n",
       "                                            overview   \n",
       "0  After dominating the boxing world, Adonis Cree...  \\\n",
       "1  Set more than a decade after the events of the...   \n",
       "2  While working underground to fix a water main,...   \n",
       "3  Through a series of unfortunate events, three ...   \n",
       "4  Good-hearted teenager William always lived in ...   \n",
       "\n",
       "                                                crew   \n",
       "0  Michael B. Jordan, Adonis Creed, Tessa Thompso...  \\\n",
       "1  Sam Worthington, Jake Sully, Zoe Saldaña, Neyt...   \n",
       "2  Chris Pratt, Mario (voice), Anya Taylor-Joy, P...   \n",
       "3  Óscar Barberán, Thut (voice), Ana Esther Albor...   \n",
       "4  Skeet Ulrich, Roy Cameron, Anne Heche, Dr Quin...   \n",
       "\n",
       "                    orig_title     status            orig_lang     budget_x   \n",
       "0                    Creed III   Released              English   75000000.0  \\\n",
       "1     Avatar: The Way of Water   Released              English  460000000.0   \n",
       "2  The Super Mario Bros. Movie   Released              English  100000000.0   \n",
       "3                       Momias   Released   Spanish, Castilian   12300000.0   \n",
       "4                    Supercell   Released              English   77000000.0   \n",
       "\n",
       "        revenue country  \n",
       "0  2.716167e+08      AU  \n",
       "1  2.316795e+09      AU  \n",
       "2  7.244590e+08      AU  \n",
       "3  3.420000e+07      AU  \n",
       "4  3.409420e+08      US  "
      ]
     },
     "execution_count": 16,
     "metadata": {},
     "output_type": "execute_result"
    }
   ],
   "source": [
    "df= pd.read_csv('imdb_movies.csv')\n",
    "df.head()"
   ]
  },
  {
   "cell_type": "markdown",
   "metadata": {},
   "source": [
    "# Data Preprocessing 🧹"
   ]
  },
  {
   "cell_type": "code",
   "execution_count": 17,
   "metadata": {},
   "outputs": [
    {
     "name": "stdout",
     "output_type": "stream",
     "text": [
      "<class 'pandas.core.frame.DataFrame'>\n",
      "RangeIndex: 10178 entries, 0 to 10177\n",
      "Data columns (total 12 columns):\n",
      " #   Column      Non-Null Count  Dtype  \n",
      "---  ------      --------------  -----  \n",
      " 0   names       10178 non-null  object \n",
      " 1   date_x      10178 non-null  object \n",
      " 2   score       10178 non-null  float64\n",
      " 3   genre       10093 non-null  object \n",
      " 4   overview    10178 non-null  object \n",
      " 5   crew        10122 non-null  object \n",
      " 6   orig_title  10178 non-null  object \n",
      " 7   status      10178 non-null  object \n",
      " 8   orig_lang   10178 non-null  object \n",
      " 9   budget_x    10178 non-null  float64\n",
      " 10  revenue     10178 non-null  float64\n",
      " 11  country     10178 non-null  object \n",
      "dtypes: float64(3), object(9)\n",
      "memory usage: 954.3+ KB\n"
     ]
    }
   ],
   "source": [
    "df.info()"
   ]
  },
  {
   "cell_type": "markdown",
   "metadata": {},
   "source": [
    "**handling missing value**"
   ]
  },
  {
   "cell_type": "code",
   "execution_count": 18,
   "metadata": {},
   "outputs": [
    {
     "data": {
      "text/plain": [
       "genre    85\n",
       "crew     56\n",
       "dtype: int64"
      ]
     },
     "execution_count": 18,
     "metadata": {},
     "output_type": "execute_result"
    }
   ],
   "source": [
    "df.isnull().sum()[df.isnull().sum()>0]"
   ]
  },
  {
   "cell_type": "code",
   "execution_count": 19,
   "metadata": {},
   "outputs": [
    {
     "data": {
      "text/html": [
       "<div>\n",
       "<style scoped>\n",
       "    .dataframe tbody tr th:only-of-type {\n",
       "        vertical-align: middle;\n",
       "    }\n",
       "\n",
       "    .dataframe tbody tr th {\n",
       "        vertical-align: top;\n",
       "    }\n",
       "\n",
       "    .dataframe thead th {\n",
       "        text-align: right;\n",
       "    }\n",
       "</style>\n",
       "<table border=\"1\" class=\"dataframe\">\n",
       "  <thead>\n",
       "    <tr style=\"text-align: right;\">\n",
       "      <th></th>\n",
       "      <th>names</th>\n",
       "      <th>date_x</th>\n",
       "      <th>score</th>\n",
       "      <th>genre</th>\n",
       "      <th>overview</th>\n",
       "      <th>crew</th>\n",
       "      <th>orig_title</th>\n",
       "      <th>status</th>\n",
       "      <th>orig_lang</th>\n",
       "      <th>budget_x</th>\n",
       "      <th>revenue</th>\n",
       "      <th>country</th>\n",
       "    </tr>\n",
       "  </thead>\n",
       "  <tbody>\n",
       "  </tbody>\n",
       "</table>\n",
       "</div>"
      ],
      "text/plain": [
       "Empty DataFrame\n",
       "Columns: [names, date_x, score, genre, overview, crew, orig_title, status, orig_lang, budget_x, revenue, country]\n",
       "Index: []"
      ]
     },
     "execution_count": 19,
     "metadata": {},
     "output_type": "execute_result"
    }
   ],
   "source": [
    "index_to_drop = (df.loc[df['genre'].isnull() | \n",
    "                             df['crew'].isnull()]).index\n",
    "\n",
    "df = df.drop(index_to_drop).reset_index(drop=True)\n",
    "\n",
    "df.loc[df['genre'].isnull() | df['crew'].isnull()]"
   ]
  },
  {
   "cell_type": "code",
   "execution_count": 20,
   "metadata": {},
   "outputs": [
    {
     "data": {
      "text/html": [
       "<div>\n",
       "<style scoped>\n",
       "    .dataframe tbody tr th:only-of-type {\n",
       "        vertical-align: middle;\n",
       "    }\n",
       "\n",
       "    .dataframe tbody tr th {\n",
       "        vertical-align: top;\n",
       "    }\n",
       "\n",
       "    .dataframe thead th {\n",
       "        text-align: right;\n",
       "    }\n",
       "</style>\n",
       "<table border=\"1\" class=\"dataframe\">\n",
       "  <thead>\n",
       "    <tr style=\"text-align: right;\">\n",
       "      <th></th>\n",
       "      <th>names</th>\n",
       "      <th>date_x</th>\n",
       "      <th>score</th>\n",
       "      <th>genre</th>\n",
       "      <th>overview</th>\n",
       "      <th>crew</th>\n",
       "      <th>orig_title</th>\n",
       "      <th>status</th>\n",
       "      <th>orig_lang</th>\n",
       "      <th>budget_x</th>\n",
       "      <th>revenue</th>\n",
       "      <th>country</th>\n",
       "    </tr>\n",
       "  </thead>\n",
       "  <tbody>\n",
       "  </tbody>\n",
       "</table>\n",
       "</div>"
      ],
      "text/plain": [
       "Empty DataFrame\n",
       "Columns: [names, date_x, score, genre, overview, crew, orig_title, status, orig_lang, budget_x, revenue, country]\n",
       "Index: []"
      ]
     },
     "execution_count": 20,
     "metadata": {},
     "output_type": "execute_result"
    }
   ],
   "source": [
    "df[df.duplicated()]"
   ]
  },
  {
   "cell_type": "code",
   "execution_count": 21,
   "metadata": {},
   "outputs": [
    {
     "data": {
      "text/plain": [
       "(10052, 12)"
      ]
     },
     "execution_count": 21,
     "metadata": {},
     "output_type": "execute_result"
    }
   ],
   "source": [
    "df.shape"
   ]
  },
  {
   "cell_type": "code",
   "execution_count": 22,
   "metadata": {},
   "outputs": [],
   "source": [
    "df.rename(columns= {'date_x':'date'}, inplace=True)"
   ]
  },
  {
   "cell_type": "markdown",
   "metadata": {},
   "source": [
    "# Exploratory Data Analysis 📚\n",
    "\n",
    "**Exploring Variable Relationships: Spearman Correlation Heatmap**"
   ]
  },
  {
   "cell_type": "code",
   "execution_count": 23,
   "metadata": {},
   "outputs": [
    {
     "data": {
      "text/html": [
       "<div>\n",
       "<style scoped>\n",
       "    .dataframe tbody tr th:only-of-type {\n",
       "        vertical-align: middle;\n",
       "    }\n",
       "\n",
       "    .dataframe tbody tr th {\n",
       "        vertical-align: top;\n",
       "    }\n",
       "\n",
       "    .dataframe thead th {\n",
       "        text-align: right;\n",
       "    }\n",
       "</style>\n",
       "<table border=\"1\" class=\"dataframe\">\n",
       "  <thead>\n",
       "    <tr style=\"text-align: right;\">\n",
       "      <th></th>\n",
       "      <th>score</th>\n",
       "      <th>budget_x</th>\n",
       "      <th>revenue</th>\n",
       "    </tr>\n",
       "  </thead>\n",
       "  <tbody>\n",
       "    <tr>\n",
       "      <th>count</th>\n",
       "      <td>10052.00000</td>\n",
       "      <td>1.005200e+04</td>\n",
       "      <td>1.005200e+04</td>\n",
       "    </tr>\n",
       "    <tr>\n",
       "      <th>mean</th>\n",
       "      <td>63.82700</td>\n",
       "      <td>6.412528e+07</td>\n",
       "      <td>2.512049e+08</td>\n",
       "    </tr>\n",
       "    <tr>\n",
       "      <th>std</th>\n",
       "      <td>12.78271</td>\n",
       "      <td>5.665852e+07</td>\n",
       "      <td>2.765495e+08</td>\n",
       "    </tr>\n",
       "    <tr>\n",
       "      <th>min</th>\n",
       "      <td>0.00000</td>\n",
       "      <td>1.000000e+00</td>\n",
       "      <td>0.000000e+00</td>\n",
       "    </tr>\n",
       "    <tr>\n",
       "      <th>25%</th>\n",
       "      <td>59.00000</td>\n",
       "      <td>1.439763e+07</td>\n",
       "      <td>2.768781e+07</td>\n",
       "    </tr>\n",
       "    <tr>\n",
       "      <th>50%</th>\n",
       "      <td>65.00000</td>\n",
       "      <td>5.000000e+07</td>\n",
       "      <td>1.493288e+08</td>\n",
       "    </tr>\n",
       "    <tr>\n",
       "      <th>75%</th>\n",
       "      <td>71.00000</td>\n",
       "      <td>1.040000e+08</td>\n",
       "      <td>4.161578e+08</td>\n",
       "    </tr>\n",
       "    <tr>\n",
       "      <th>max</th>\n",
       "      <td>100.00000</td>\n",
       "      <td>4.600000e+08</td>\n",
       "      <td>2.923706e+09</td>\n",
       "    </tr>\n",
       "  </tbody>\n",
       "</table>\n",
       "</div>"
      ],
      "text/plain": [
       "             score      budget_x       revenue\n",
       "count  10052.00000  1.005200e+04  1.005200e+04\n",
       "mean      63.82700  6.412528e+07  2.512049e+08\n",
       "std       12.78271  5.665852e+07  2.765495e+08\n",
       "min        0.00000  1.000000e+00  0.000000e+00\n",
       "25%       59.00000  1.439763e+07  2.768781e+07\n",
       "50%       65.00000  5.000000e+07  1.493288e+08\n",
       "75%       71.00000  1.040000e+08  4.161578e+08\n",
       "max      100.00000  4.600000e+08  2.923706e+09"
      ]
     },
     "execution_count": 23,
     "metadata": {},
     "output_type": "execute_result"
    }
   ],
   "source": [
    "df.describe()"
   ]
  },
  {
   "cell_type": "code",
   "execution_count": 24,
   "metadata": {},
   "outputs": [
    {
     "data": {
      "text/plain": [
       "['score', 'budget_x', 'revenue']"
      ]
     },
     "execution_count": 24,
     "metadata": {},
     "output_type": "execute_result"
    }
   ],
   "source": [
    "numeric= df.select_dtypes(include=np.number).columns.tolist()\n",
    "numeric"
   ]
  },
  {
   "cell_type": "code",
   "execution_count": 25,
   "metadata": {},
   "outputs": [
    {
     "data": {
      "text/plain": [
       "['names',\n",
       " 'date',\n",
       " 'genre',\n",
       " 'overview',\n",
       " 'crew',\n",
       " 'orig_title',\n",
       " 'status',\n",
       " 'orig_lang',\n",
       " 'country']"
      ]
     },
     "execution_count": 25,
     "metadata": {},
     "output_type": "execute_result"
    }
   ],
   "source": [
    "df.select_dtypes(include='object').columns.tolist()"
   ]
  },
  {
   "cell_type": "code",
   "execution_count": 26,
   "metadata": {},
   "outputs": [
    {
     "data": {
      "text/html": [
       "<div>\n",
       "<style scoped>\n",
       "    .dataframe tbody tr th:only-of-type {\n",
       "        vertical-align: middle;\n",
       "    }\n",
       "\n",
       "    .dataframe tbody tr th {\n",
       "        vertical-align: top;\n",
       "    }\n",
       "\n",
       "    .dataframe thead th {\n",
       "        text-align: right;\n",
       "    }\n",
       "</style>\n",
       "<table border=\"1\" class=\"dataframe\">\n",
       "  <thead>\n",
       "    <tr style=\"text-align: right;\">\n",
       "      <th></th>\n",
       "      <th>status</th>\n",
       "      <th>orig_lang</th>\n",
       "      <th>country</th>\n",
       "    </tr>\n",
       "  </thead>\n",
       "  <tbody>\n",
       "    <tr>\n",
       "      <th>0</th>\n",
       "      <td>2</td>\n",
       "      <td>12</td>\n",
       "      <td>2</td>\n",
       "    </tr>\n",
       "    <tr>\n",
       "      <th>1</th>\n",
       "      <td>2</td>\n",
       "      <td>12</td>\n",
       "      <td>2</td>\n",
       "    </tr>\n",
       "    <tr>\n",
       "      <th>2</th>\n",
       "      <td>2</td>\n",
       "      <td>12</td>\n",
       "      <td>2</td>\n",
       "    </tr>\n",
       "    <tr>\n",
       "      <th>3</th>\n",
       "      <td>2</td>\n",
       "      <td>44</td>\n",
       "      <td>2</td>\n",
       "    </tr>\n",
       "    <tr>\n",
       "      <th>4</th>\n",
       "      <td>2</td>\n",
       "      <td>12</td>\n",
       "      <td>52</td>\n",
       "    </tr>\n",
       "    <tr>\n",
       "      <th>...</th>\n",
       "      <td>...</td>\n",
       "      <td>...</td>\n",
       "      <td>...</td>\n",
       "    </tr>\n",
       "    <tr>\n",
       "      <th>10047</th>\n",
       "      <td>2</td>\n",
       "      <td>12</td>\n",
       "      <td>52</td>\n",
       "    </tr>\n",
       "    <tr>\n",
       "      <th>10048</th>\n",
       "      <td>2</td>\n",
       "      <td>12</td>\n",
       "      <td>52</td>\n",
       "    </tr>\n",
       "    <tr>\n",
       "      <th>10049</th>\n",
       "      <td>2</td>\n",
       "      <td>12</td>\n",
       "      <td>52</td>\n",
       "    </tr>\n",
       "    <tr>\n",
       "      <th>10050</th>\n",
       "      <td>2</td>\n",
       "      <td>12</td>\n",
       "      <td>52</td>\n",
       "    </tr>\n",
       "    <tr>\n",
       "      <th>10051</th>\n",
       "      <td>2</td>\n",
       "      <td>12</td>\n",
       "      <td>18</td>\n",
       "    </tr>\n",
       "  </tbody>\n",
       "</table>\n",
       "<p>10052 rows × 3 columns</p>\n",
       "</div>"
      ],
      "text/plain": [
       "       status  orig_lang  country\n",
       "0           2         12        2\n",
       "1           2         12        2\n",
       "2           2         12        2\n",
       "3           2         44        2\n",
       "4           2         12       52\n",
       "...       ...        ...      ...\n",
       "10047       2         12       52\n",
       "10048       2         12       52\n",
       "10049       2         12       52\n",
       "10050       2         12       52\n",
       "10051       2         12       18\n",
       "\n",
       "[10052 rows x 3 columns]"
      ]
     },
     "execution_count": 26,
     "metadata": {},
     "output_type": "execute_result"
    }
   ],
   "source": [
    "## subset categorical variables which you want to encode\n",
    "Cat= df[['status', 'orig_lang', 'country']]\n",
    "\n",
    "from sklearn.preprocessing import LabelEncoder\n",
    "# Assigning numerical values and storing in another column\n",
    "Cat = Cat.apply(LabelEncoder().fit_transform)\n",
    "Cat"
   ]
  },
  {
   "cell_type": "code",
   "execution_count": 27,
   "metadata": {},
   "outputs": [
    {
     "data": {
      "text/plain": [
       "Index(['score', 'budget_x', 'revenue', 'status', 'orig_lang', 'country'], dtype='object')"
      ]
     },
     "execution_count": 27,
     "metadata": {},
     "output_type": "execute_result"
    }
   ],
   "source": [
    "heatmap= df[numeric]\n",
    "#heatmap= heatmap.drop(Cat.columns, axis= 1)\n",
    "heatmap= pd.concat([heatmap, Cat], axis= 1)\n",
    "heatmap.columns"
   ]
  },
  {
   "cell_type": "code",
   "execution_count": 28,
   "metadata": {},
   "outputs": [
    {
     "data": {
      "image/png": "[encoded data removed]",
      "text/plain": [
       "<Figure size 1600x600 with 2 Axes>"
      ]
     },
     "metadata": {},
     "output_type": "display_data"
    }
   ],
   "source": [
    "attr = heatmap.columns.tolist()\n",
    "sns.set_theme()\n",
    "\n",
    "# Spearman’s ρ \n",
    "x = heatmap[attr].corr()\n",
    "fig = plt.figure(figsize =(16, 6)) \n",
    "ax = fig.add_axes([0.1, 0.1, 0.8, 0.8])\n",
    "sns.heatmap(x, cmap='YlGnBu', annot=True, ax=ax)\n",
    "plt.xticks(rotation = 45)\n",
    "plt.title('Spearman Correlation Between Each Variables', fontsize = 40)\n",
    "plt.show()"
   ]
  },
  {
   "cell_type": "markdown",
   "metadata": {},
   "source": [
    "> Notable findings include a strong positive correlation **_0.68_** between `revenue` and `budget_x`, indicating The higher the budget spent, the more revenue you get. A positive correlation **_0.32_** between `status` and `score` shows after the film is released, score tend to increase."
   ]
  },
  {
   "cell_type": "code",
   "execution_count": 29,
   "metadata": {},
   "outputs": [
    {
     "data": {
      "text/html": [
       "<div>\n",
       "<style scoped>\n",
       "    .dataframe tbody tr th:only-of-type {\n",
       "        vertical-align: middle;\n",
       "    }\n",
       "\n",
       "    .dataframe tbody tr th {\n",
       "        vertical-align: top;\n",
       "    }\n",
       "\n",
       "    .dataframe thead th {\n",
       "        text-align: right;\n",
       "    }\n",
       "</style>\n",
       "<table border=\"1\" class=\"dataframe\">\n",
       "  <thead>\n",
       "    <tr style=\"text-align: right;\">\n",
       "      <th></th>\n",
       "      <th>mean</th>\n",
       "      <th>median</th>\n",
       "      <th>mode</th>\n",
       "    </tr>\n",
       "    <tr>\n",
       "      <th>genre</th>\n",
       "      <th></th>\n",
       "      <th></th>\n",
       "      <th></th>\n",
       "    </tr>\n",
       "  </thead>\n",
       "  <tbody>\n",
       "    <tr>\n",
       "      <th>Action</th>\n",
       "      <td>59.802326</td>\n",
       "      <td>61.0</td>\n",
       "      <td>64.0</td>\n",
       "    </tr>\n",
       "    <tr>\n",
       "      <th>Action, Adventure</th>\n",
       "      <td>62.166667</td>\n",
       "      <td>61.5</td>\n",
       "      <td>58.0</td>\n",
       "    </tr>\n",
       "    <tr>\n",
       "      <th>Action, Adventure, Animation</th>\n",
       "      <td>62.333333</td>\n",
       "      <td>62.0</td>\n",
       "      <td>58.0</td>\n",
       "    </tr>\n",
       "    <tr>\n",
       "      <th>Action, Adventure, Animation, Comedy</th>\n",
       "      <td>69.000000</td>\n",
       "      <td>69.0</td>\n",
       "      <td>69.0</td>\n",
       "    </tr>\n",
       "    <tr>\n",
       "      <th>Action, Adventure, Animation, Comedy, Family</th>\n",
       "      <td>68.000000</td>\n",
       "      <td>68.0</td>\n",
       "      <td>67.0</td>\n",
       "    </tr>\n",
       "    <tr>\n",
       "      <th>...</th>\n",
       "      <td>...</td>\n",
       "      <td>...</td>\n",
       "      <td>...</td>\n",
       "    </tr>\n",
       "    <tr>\n",
       "      <th>Western, Horror</th>\n",
       "      <td>68.000000</td>\n",
       "      <td>68.0</td>\n",
       "      <td>68.0</td>\n",
       "    </tr>\n",
       "    <tr>\n",
       "      <th>Western, Horror, Mystery</th>\n",
       "      <td>63.000000</td>\n",
       "      <td>63.0</td>\n",
       "      <td>63.0</td>\n",
       "    </tr>\n",
       "    <tr>\n",
       "      <th>Western, Mystery</th>\n",
       "      <td>56.000000</td>\n",
       "      <td>56.0</td>\n",
       "      <td>56.0</td>\n",
       "    </tr>\n",
       "    <tr>\n",
       "      <th>Western, Mystery, Thriller, Drama</th>\n",
       "      <td>71.000000</td>\n",
       "      <td>71.0</td>\n",
       "      <td>71.0</td>\n",
       "    </tr>\n",
       "    <tr>\n",
       "      <th>Western, Thriller</th>\n",
       "      <td>57.000000</td>\n",
       "      <td>57.0</td>\n",
       "      <td>57.0</td>\n",
       "    </tr>\n",
       "  </tbody>\n",
       "</table>\n",
       "<p>2300 rows × 3 columns</p>\n",
       "</div>"
      ],
      "text/plain": [
       "                                                   mean  median  mode\n",
       "genre                                                                \n",
       "Action                                        59.802326    61.0  64.0\n",
       "Action, Adventure                             62.166667    61.5  58.0\n",
       "Action, Adventure, Animation                  62.333333    62.0  58.0\n",
       "Action, Adventure, Animation, Comedy          69.000000    69.0  69.0\n",
       "Action, Adventure, Animation, Comedy, Family  68.000000    68.0  67.0\n",
       "...                                                 ...     ...   ...\n",
       "Western, Horror                               68.000000    68.0  68.0\n",
       "Western, Horror, Mystery                      63.000000    63.0  63.0\n",
       "Western, Mystery                              56.000000    56.0  56.0\n",
       "Western, Mystery, Thriller, Drama             71.000000    71.0  71.0\n",
       "Western, Thriller                             57.000000    57.0  57.0\n",
       "\n",
       "[2300 rows x 3 columns]"
      ]
     },
     "execution_count": 29,
     "metadata": {},
     "output_type": "execute_result"
    }
   ],
   "source": [
    "df.groupby('genre')['score'].agg(['mean', 'median', ('mode',lambda x: x.mode().iloc[0])])"
   ]
  },
  {
   "cell_type": "code",
   "execution_count": 30,
   "metadata": {},
   "outputs": [
    {
     "data": {
      "text/html": [
       "<div>\n",
       "<style scoped>\n",
       "    .dataframe tbody tr th:only-of-type {\n",
       "        vertical-align: middle;\n",
       "    }\n",
       "\n",
       "    .dataframe tbody tr th {\n",
       "        vertical-align: top;\n",
       "    }\n",
       "\n",
       "    .dataframe thead th {\n",
       "        text-align: right;\n",
       "    }\n",
       "</style>\n",
       "<table border=\"1\" class=\"dataframe\">\n",
       "  <thead>\n",
       "    <tr style=\"text-align: right;\">\n",
       "      <th></th>\n",
       "      <th>genre</th>\n",
       "      <th>overview</th>\n",
       "    </tr>\n",
       "  </thead>\n",
       "  <tbody>\n",
       "    <tr>\n",
       "      <th>0</th>\n",
       "      <td>Drama, Action</td>\n",
       "      <td>After dominating the boxing world, Adonis Cree...</td>\n",
       "    </tr>\n",
       "    <tr>\n",
       "      <th>1</th>\n",
       "      <td>Science Fiction, Adventure, Action</td>\n",
       "      <td>Set more than a decade after the events of the...</td>\n",
       "    </tr>\n",
       "    <tr>\n",
       "      <th>2</th>\n",
       "      <td>Animation, Adventure, Family, Fantasy, Comedy</td>\n",
       "      <td>While working underground to fix a water main,...</td>\n",
       "    </tr>\n",
       "    <tr>\n",
       "      <th>3</th>\n",
       "      <td>Animation, Comedy, Family, Adventure, Fantasy</td>\n",
       "      <td>Through a series of unfortunate events, three ...</td>\n",
       "    </tr>\n",
       "    <tr>\n",
       "      <th>4</th>\n",
       "      <td>Action</td>\n",
       "      <td>Good-hearted teenager William always lived in ...</td>\n",
       "    </tr>\n",
       "  </tbody>\n",
       "</table>\n",
       "</div>"
      ],
      "text/plain": [
       "                                           genre   \n",
       "0                                  Drama, Action  \\\n",
       "1             Science Fiction, Adventure, Action   \n",
       "2  Animation, Adventure, Family, Fantasy, Comedy   \n",
       "3  Animation, Comedy, Family, Adventure, Fantasy   \n",
       "4                                         Action   \n",
       "\n",
       "                                            overview  \n",
       "0  After dominating the boxing world, Adonis Cree...  \n",
       "1  Set more than a decade after the events of the...  \n",
       "2  While working underground to fix a water main,...  \n",
       "3  Through a series of unfortunate events, three ...  \n",
       "4  Good-hearted teenager William always lived in ...  "
      ]
     },
     "execution_count": 30,
     "metadata": {},
     "output_type": "execute_result"
    }
   ],
   "source": [
    "data= df[['genre', 'overview']]\n",
    "data.head()"
   ]
  },
  {
   "cell_type": "code",
   "execution_count": 31,
   "metadata": {},
   "outputs": [],
   "source": [
    "#import spacy\n",
    "#spacy.cli.download(\"en_core_web_md\")\n",
    "#nlp_model = spacy.load(\"en_core_web_md\")"
   ]
  },
  {
   "cell_type": "code",
   "execution_count": 98,
   "metadata": {},
   "outputs": [
    {
     "data": {
      "text/plain": [
       "['tok2vec', 'tagger', 'parser', 'attribute_ruler', 'lemmatizer', 'ner']"
      ]
     },
     "execution_count": 98,
     "metadata": {},
     "output_type": "execute_result"
    }
   ],
   "source": [
    "nlp_model = spacy.load(\"en_core_web_md\")\n",
    "nlp_model.pipe_names"
   ]
  },
  {
   "cell_type": "code",
   "execution_count": 33,
   "metadata": {},
   "outputs": [],
   "source": [
    "def lemmatizer(text):\n",
    "    # Convert to lowercase\n",
    "    lower_case = text.lower()\n",
    "\n",
    "    # Lemmatization and Remove Stop Words\n",
    "    tokens = [token.lemma_ for token in nlp_model(lower_case) if not token.is_stop]\n",
    "\n",
    "    # Sentence Formation\n",
    "    sentence = \" \".join(tokens)\n",
    "    return sentence\n",
    "\n",
    "def doc2vec(text):\n",
    "    # Lemmatization\n",
    "    text = lemmatizer(text)\n",
    "\n",
    "    # Initialize a vector with zeros\n",
    "    vector = np.zeros(len(nlp_model('').vector))\n",
    "    \n",
    "    # Tokenize the lemmatized text\n",
    "    tokens = nlp_model(text)\n",
    "    len_of_text = len(tokens)\n",
    "\n",
    "    if len_of_text > 0:\n",
    "        # Calculate the weighted vector\n",
    "        for token in tokens:            \n",
    "            vector = vector + token.vector\n",
    "        vector = vector / len_of_text\n",
    "    return vector\n",
    "\n",
    "\n",
    "def map_genre_to_doc2vec(df):\n",
    "    # Extract the genre definitions from the DataFrame\n",
    "    overview = list(df['overview'])\n",
    "    \n",
    "    # Get the dimensions for the resulting Doc2Vec vectors\n",
    "    rows, cols = len(overview), len(nlp_model('').vector)\n",
    "    \n",
    "    # Initialize an array to store the Doc2Vec vectors\n",
    "    doc2vec_genre = np.zeros(rows*cols).reshape(rows, cols)\n",
    "\n",
    "    # Calculate the Doc2Vec vector for each genre definition\n",
    "    for i, text in enumerate(overview):\n",
    "        vector = doc2vec(text)\n",
    "        doc2vec_genre[i] = vector\n",
    "    return doc2vec_genre"
   ]
  },
  {
   "cell_type": "code",
   "execution_count": 34,
   "metadata": {},
   "outputs": [
    {
     "name": "stdout",
     "output_type": "stream",
     "text": [
      "doc2vec representation of genre#1:  [-1.60056263 -0.31725877 -1.7154427   0.05008394  3.2572261 ]\n",
      "doc2vec representation of genre#2:  [-1.48679851 -1.03251649 -1.05152889 -0.74455515  1.54550659]\n",
      "doc2vec representation of genre#3:  [-0.98070731 -0.14769315 -1.03793807 -1.38536421  2.58232743]\n",
      "doc2vec representation of genre#4:  [-1.1882646  -0.40456039 -0.9901837  -1.1325589   3.12538838]\n",
      "(10052, 300)\n"
     ]
    }
   ],
   "source": [
    "genre_vector = map_genre_to_doc2vec(data)\n",
    "print(\"doc2vec representation of genre#1: \", genre_vector[0][0:5])\n",
    "print(\"doc2vec representation of genre#2: \", genre_vector[1][0:5])\n",
    "print(\"doc2vec representation of genre#3: \", genre_vector[2][0:5])\n",
    "print(\"doc2vec representation of genre#4: \", genre_vector[3][0:5])\n",
    "print(genre_vector.shape)"
   ]
  },
  {
   "cell_type": "code",
   "execution_count": 134,
   "metadata": {},
   "outputs": [],
   "source": [
    "pickle.dump(genre_vector, open('scapy_preprocessing.pkl', 'wb'))"
   ]
  },
  {
   "cell_type": "code",
   "execution_count": 35,
   "metadata": {},
   "outputs": [
    {
     "data": {
      "text/plain": [
       "Text(0.5, 1.0, 'Elbow curve')"
      ]
     },
     "execution_count": 35,
     "metadata": {},
     "output_type": "execute_result"
    },
    {
     "data": {
      "image/png": "[encoded data removed]",
      "text/plain": [
       "<Figure size 1700x1000 with 1 Axes>"
      ]
     },
     "metadata": {},
     "output_type": "display_data"
    }
   ],
   "source": [
    "# Initialize empty lists to store sum of squares and cluster values\n",
    "sum_of_squares = []\n",
    "clusters = []\n",
    "\n",
    "# Define a range of cluster values to test (from 20 to 39)\n",
    "iteration = range(1, 30)\n",
    "clusters.extend(iteration)\n",
    "\n",
    "# Iterate through different cluster values\n",
    "for k in iteration:\n",
    "    # Create a KMeans model with specified parameters\n",
    "    model = KMeans(\n",
    "        n_clusters=k,             # Number of clusters\n",
    "        init='k-means++',         # Initialization method\n",
    "        n_init=10,                # Number of re-run with different initializations\n",
    "        max_iter=100,             # Maximum number of iterations for each run\n",
    "        tol=1e-3,                 # Tolerance to declare convergence\n",
    "        random_state=42,         # Random seed for reproducibility\n",
    "    )\n",
    "\n",
    "    # Fit the KMeans model to the genre vectors\n",
    "    model.fit(genre_vector)\n",
    "    # Append the sum of squares error to the list\n",
    "    sum_of_squares.append(model.inertia_)\n",
    "\n",
    "# Plotting elbow curve\n",
    "sns.set(style='darkgrid')\n",
    "fig = plt.figure(figsize=(17, 10))\n",
    "plt.plot(clusters, sum_of_squares)\n",
    "plt.grid(True)\n",
    "plt.xticks(np.arange(min(clusters), max(clusters) + 1, 1))\n",
    "plt.xlabel('Number of Clusters')\n",
    "plt.ylabel('Sum of Squares Error')\n",
    "plt.title('Elbow curve')"
   ]
  },
  {
   "cell_type": "code",
   "execution_count": 36,
   "metadata": {},
   "outputs": [
    {
     "name": "stderr",
     "output_type": "stream",
     "text": [
      "C:\\Users\\user\\AppData\\Local\\Packages\\PythonSoftwareFoundation.Python.3.11_qbz5n2kfra8p0\\LocalCache\\local-packages\\Python311\\site-packages\\sklearn\\cluster\\_kmeans.py:1416: FutureWarning: The default value of `n_init` will change from 10 to 'auto' in 1.4. Set the value of `n_init` explicitly to suppress the warning\n",
      "  super()._check_params_vs_input(X, default_n_init=10)\n",
      "C:\\Users\\user\\AppData\\Local\\Packages\\PythonSoftwareFoundation.Python.3.11_qbz5n2kfra8p0\\LocalCache\\local-packages\\Python311\\site-packages\\sklearn\\cluster\\_kmeans.py:1416: FutureWarning: The default value of `n_init` will change from 10 to 'auto' in 1.4. Set the value of `n_init` explicitly to suppress the warning\n",
      "  super()._check_params_vs_input(X, default_n_init=10)\n",
      "C:\\Users\\user\\AppData\\Local\\Packages\\PythonSoftwareFoundation.Python.3.11_qbz5n2kfra8p0\\LocalCache\\local-packages\\Python311\\site-packages\\sklearn\\cluster\\_kmeans.py:1416: FutureWarning: The default value of `n_init` will change from 10 to 'auto' in 1.4. Set the value of `n_init` explicitly to suppress the warning\n",
      "  super()._check_params_vs_input(X, default_n_init=10)\n",
      "C:\\Users\\user\\AppData\\Local\\Packages\\PythonSoftwareFoundation.Python.3.11_qbz5n2kfra8p0\\LocalCache\\local-packages\\Python311\\site-packages\\sklearn\\cluster\\_kmeans.py:1416: FutureWarning: The default value of `n_init` will change from 10 to 'auto' in 1.4. Set the value of `n_init` explicitly to suppress the warning\n",
      "  super()._check_params_vs_input(X, default_n_init=10)\n",
      "C:\\Users\\user\\AppData\\Local\\Packages\\PythonSoftwareFoundation.Python.3.11_qbz5n2kfra8p0\\LocalCache\\local-packages\\Python311\\site-packages\\sklearn\\cluster\\_kmeans.py:1416: FutureWarning: The default value of `n_init` will change from 10 to 'auto' in 1.4. Set the value of `n_init` explicitly to suppress the warning\n",
      "  super()._check_params_vs_input(X, default_n_init=10)\n",
      "C:\\Users\\user\\AppData\\Local\\Packages\\PythonSoftwareFoundation.Python.3.11_qbz5n2kfra8p0\\LocalCache\\local-packages\\Python311\\site-packages\\sklearn\\cluster\\_kmeans.py:1416: FutureWarning: The default value of `n_init` will change from 10 to 'auto' in 1.4. Set the value of `n_init` explicitly to suppress the warning\n",
      "  super()._check_params_vs_input(X, default_n_init=10)\n",
      "C:\\Users\\user\\AppData\\Local\\Packages\\PythonSoftwareFoundation.Python.3.11_qbz5n2kfra8p0\\LocalCache\\local-packages\\Python311\\site-packages\\sklearn\\cluster\\_kmeans.py:1416: FutureWarning: The default value of `n_init` will change from 10 to 'auto' in 1.4. Set the value of `n_init` explicitly to suppress the warning\n",
      "  super()._check_params_vs_input(X, default_n_init=10)\n",
      "C:\\Users\\user\\AppData\\Local\\Packages\\PythonSoftwareFoundation.Python.3.11_qbz5n2kfra8p0\\LocalCache\\local-packages\\Python311\\site-packages\\sklearn\\cluster\\_kmeans.py:1416: FutureWarning: The default value of `n_init` will change from 10 to 'auto' in 1.4. Set the value of `n_init` explicitly to suppress the warning\n",
      "  super()._check_params_vs_input(X, default_n_init=10)\n",
      "C:\\Users\\user\\AppData\\Local\\Packages\\PythonSoftwareFoundation.Python.3.11_qbz5n2kfra8p0\\LocalCache\\local-packages\\Python311\\site-packages\\sklearn\\cluster\\_kmeans.py:1416: FutureWarning: The default value of `n_init` will change from 10 to 'auto' in 1.4. Set the value of `n_init` explicitly to suppress the warning\n",
      "  super()._check_params_vs_input(X, default_n_init=10)\n",
      "C:\\Users\\user\\AppData\\Local\\Packages\\PythonSoftwareFoundation.Python.3.11_qbz5n2kfra8p0\\LocalCache\\local-packages\\Python311\\site-packages\\sklearn\\cluster\\_kmeans.py:1416: FutureWarning: The default value of `n_init` will change from 10 to 'auto' in 1.4. Set the value of `n_init` explicitly to suppress the warning\n",
      "  super()._check_params_vs_input(X, default_n_init=10)\n",
      "C:\\Users\\user\\AppData\\Local\\Packages\\PythonSoftwareFoundation.Python.3.11_qbz5n2kfra8p0\\LocalCache\\local-packages\\Python311\\site-packages\\sklearn\\cluster\\_kmeans.py:1416: FutureWarning: The default value of `n_init` will change from 10 to 'auto' in 1.4. Set the value of `n_init` explicitly to suppress the warning\n",
      "  super()._check_params_vs_input(X, default_n_init=10)\n"
     ]
    },
    {
     "data": {
      "image/png": "[encoded data removed]",
      "text/plain": [
       "<Figure size 800x550 with 2 Axes>"
      ]
     },
     "metadata": {},
     "output_type": "display_data"
    },
    {
     "data": {
      "text/plain": [
       "<Axes: title={'center': 'Distortion Score Elbow for KMeans Clustering'}, xlabel='k', ylabel='distortion score'>"
      ]
     },
     "execution_count": 36,
     "metadata": {},
     "output_type": "execute_result"
    }
   ],
   "source": [
    "from yellowbrick.cluster import KElbowVisualizer\n",
    "\n",
    "# Instantiate the clustering model and visualizer\n",
    "model = KMeans(random_state=42)\n",
    "visualizer = KElbowVisualizer(model, k=(1,12))\n",
    "\n",
    "visualizer.fit(genre_vector)        # Fit the data to the visualizer\n",
    "visualizer.show()"
   ]
  },
  {
   "cell_type": "code",
   "execution_count": 37,
   "metadata": {},
   "outputs": [
    {
     "name": "stderr",
     "output_type": "stream",
     "text": [
      "C:\\Users\\user\\AppData\\Local\\Temp\\ipykernel_12476\\1764507766.py:11: SettingWithCopyWarning: \n",
      "A value is trying to be set on a copy of a slice from a DataFrame.\n",
      "Try using .loc[row_indexer,col_indexer] = value instead\n",
      "\n",
      "See the caveats in the documentation: https://pandas.pydata.org/pandas-docs/stable/user_guide/indexing.html#returning-a-view-versus-a-copy\n",
      "  data['cluster'] = model.labels_\n"
     ]
    },
    {
     "data": {
      "text/html": [
       "<div>\n",
       "<style scoped>\n",
       "    .dataframe tbody tr th:only-of-type {\n",
       "        vertical-align: middle;\n",
       "    }\n",
       "\n",
       "    .dataframe tbody tr th {\n",
       "        vertical-align: top;\n",
       "    }\n",
       "\n",
       "    .dataframe thead th {\n",
       "        text-align: right;\n",
       "    }\n",
       "</style>\n",
       "<table border=\"1\" class=\"dataframe\">\n",
       "  <thead>\n",
       "    <tr style=\"text-align: right;\">\n",
       "      <th></th>\n",
       "      <th>genre</th>\n",
       "      <th>cluster</th>\n",
       "      <th>overview</th>\n",
       "    </tr>\n",
       "  </thead>\n",
       "  <tbody>\n",
       "    <tr>\n",
       "      <th>0</th>\n",
       "      <td>Drama, Action</td>\n",
       "      <td>0</td>\n",
       "      <td>After dominating the boxing world, Adonis Cree...</td>\n",
       "    </tr>\n",
       "    <tr>\n",
       "      <th>1</th>\n",
       "      <td>Science Fiction, Adventure, Action</td>\n",
       "      <td>0</td>\n",
       "      <td>Set more than a decade after the events of the...</td>\n",
       "    </tr>\n",
       "    <tr>\n",
       "      <th>2</th>\n",
       "      <td>Animation, Adventure, Family, Fantasy, Comedy</td>\n",
       "      <td>0</td>\n",
       "      <td>While working underground to fix a water main,...</td>\n",
       "    </tr>\n",
       "    <tr>\n",
       "      <th>3</th>\n",
       "      <td>Animation, Comedy, Family, Adventure, Fantasy</td>\n",
       "      <td>2</td>\n",
       "      <td>Through a series of unfortunate events, three ...</td>\n",
       "    </tr>\n",
       "    <tr>\n",
       "      <th>4</th>\n",
       "      <td>Action</td>\n",
       "      <td>0</td>\n",
       "      <td>Good-hearted teenager William always lived in ...</td>\n",
       "    </tr>\n",
       "    <tr>\n",
       "      <th>...</th>\n",
       "      <td>...</td>\n",
       "      <td>...</td>\n",
       "      <td>...</td>\n",
       "    </tr>\n",
       "    <tr>\n",
       "      <th>10047</th>\n",
       "      <td>Drama</td>\n",
       "      <td>0</td>\n",
       "      <td>In 1979 Santa Barbara, California, Dorothea Fi...</td>\n",
       "    </tr>\n",
       "    <tr>\n",
       "      <th>10048</th>\n",
       "      <td>Action</td>\n",
       "      <td>3</td>\n",
       "      <td>When DEA agents are taken captive by a ruthles...</td>\n",
       "    </tr>\n",
       "    <tr>\n",
       "      <th>10049</th>\n",
       "      <td>Drama, Thriller, Romance</td>\n",
       "      <td>2</td>\n",
       "      <td>Barley Scott Blair, a Lisbon-based editor of R...</td>\n",
       "    </tr>\n",
       "    <tr>\n",
       "      <th>10050</th>\n",
       "      <td>Action, Adventure, Science Fiction, Thriller, ...</td>\n",
       "      <td>3</td>\n",
       "      <td>Darkman and Durant return and they hate each o...</td>\n",
       "    </tr>\n",
       "    <tr>\n",
       "      <th>10051</th>\n",
       "      <td>Animation, Family, Fantasy</td>\n",
       "      <td>1</td>\n",
       "      <td>Princess Odette and Prince Derek are going to ...</td>\n",
       "    </tr>\n",
       "  </tbody>\n",
       "</table>\n",
       "<p>10052 rows × 3 columns</p>\n",
       "</div>"
      ],
      "text/plain": [
       "                                                   genre  cluster   \n",
       "0                                          Drama, Action        0  \\\n",
       "1                     Science Fiction, Adventure, Action        0   \n",
       "2          Animation, Adventure, Family, Fantasy, Comedy        0   \n",
       "3          Animation, Comedy, Family, Adventure, Fantasy        2   \n",
       "4                                                 Action        0   \n",
       "...                                                  ...      ...   \n",
       "10047                                              Drama        0   \n",
       "10048                                             Action        3   \n",
       "10049                           Drama, Thriller, Romance        2   \n",
       "10050  Action, Adventure, Science Fiction, Thriller, ...        3   \n",
       "10051                         Animation, Family, Fantasy        1   \n",
       "\n",
       "                                                overview  \n",
       "0      After dominating the boxing world, Adonis Cree...  \n",
       "1      Set more than a decade after the events of the...  \n",
       "2      While working underground to fix a water main,...  \n",
       "3      Through a series of unfortunate events, three ...  \n",
       "4      Good-hearted teenager William always lived in ...  \n",
       "...                                                  ...  \n",
       "10047  In 1979 Santa Barbara, California, Dorothea Fi...  \n",
       "10048  When DEA agents are taken captive by a ruthles...  \n",
       "10049  Barley Scott Blair, a Lisbon-based editor of R...  \n",
       "10050  Darkman and Durant return and they hate each o...  \n",
       "10051  Princess Odette and Prince Derek are going to ...  \n",
       "\n",
       "[10052 rows x 3 columns]"
      ]
     },
     "execution_count": 37,
     "metadata": {},
     "output_type": "execute_result"
    }
   ],
   "source": [
    "model = KMeans(\n",
    "    n_clusters=4, \n",
    "    init='k-means++',\n",
    "    n_init=10, \n",
    "    max_iter=100,\n",
    "    tol=1e-3,\n",
    "    random_state=42, \n",
    "    )\n",
    "model.fit(genre_vector)\n",
    "\n",
    "data['cluster'] = model.labels_\n",
    "data = data[['genre','cluster','overview']]\n",
    "data"
   ]
  },
  {
   "cell_type": "code",
   "execution_count": 38,
   "metadata": {},
   "outputs": [
    {
     "data": {
      "text/html": [
       "<div>\n",
       "<style scoped>\n",
       "    .dataframe tbody tr th:only-of-type {\n",
       "        vertical-align: middle;\n",
       "    }\n",
       "\n",
       "    .dataframe tbody tr th {\n",
       "        vertical-align: top;\n",
       "    }\n",
       "\n",
       "    .dataframe thead th {\n",
       "        text-align: right;\n",
       "    }\n",
       "</style>\n",
       "<table border=\"1\" class=\"dataframe\">\n",
       "  <thead>\n",
       "    <tr style=\"text-align: right;\">\n",
       "      <th></th>\n",
       "      <th>Cluster</th>\n",
       "      <th>Genres</th>\n",
       "    </tr>\n",
       "  </thead>\n",
       "  <tbody>\n",
       "    <tr>\n",
       "      <th>0</th>\n",
       "      <td>0</td>\n",
       "      <td>[Drama, Action, Science Fiction, Adventure, Ac...</td>\n",
       "    </tr>\n",
       "    <tr>\n",
       "      <th>1</th>\n",
       "      <td>1</td>\n",
       "      <td>[Animation, Family, Fantasy, Adventure, Comedy...</td>\n",
       "    </tr>\n",
       "    <tr>\n",
       "      <th>2</th>\n",
       "      <td>2</td>\n",
       "      <td>[Animation, Comedy, Family, Adventure, Fantasy...</td>\n",
       "    </tr>\n",
       "    <tr>\n",
       "      <th>3</th>\n",
       "      <td>3</td>\n",
       "      <td>[Action, Thriller, Crime, Action, Science Fict...</td>\n",
       "    </tr>\n",
       "  </tbody>\n",
       "</table>\n",
       "</div>"
      ],
      "text/plain": [
       "   Cluster                                             Genres\n",
       "0        0  [Drama, Action, Science Fiction, Adventure, Ac...\n",
       "1        1  [Animation, Family, Fantasy, Adventure, Comedy...\n",
       "2        2  [Animation, Comedy, Family, Adventure, Fantasy...\n",
       "3        3  [Action, Thriller, Crime, Action, Science Fict..."
      ]
     },
     "execution_count": 38,
     "metadata": {},
     "output_type": "execute_result"
    }
   ],
   "source": [
    "result_dict = data.groupby('cluster')['genre'].apply(list).to_dict()\n",
    "genre_cluster = pd.DataFrame(result_dict.items(), columns=['Cluster', 'Genres'])\n",
    "\n",
    "genre_cluster"
   ]
  },
  {
   "cell_type": "code",
   "execution_count": 39,
   "metadata": {},
   "outputs": [
    {
     "data": {
      "text/html": [
       "<div>\n",
       "<style scoped>\n",
       "    .dataframe tbody tr th:only-of-type {\n",
       "        vertical-align: middle;\n",
       "    }\n",
       "\n",
       "    .dataframe tbody tr th {\n",
       "        vertical-align: top;\n",
       "    }\n",
       "\n",
       "    .dataframe thead th {\n",
       "        text-align: right;\n",
       "    }\n",
       "</style>\n",
       "<table border=\"1\" class=\"dataframe\">\n",
       "  <thead>\n",
       "    <tr style=\"text-align: right;\">\n",
       "      <th></th>\n",
       "      <th>genre</th>\n",
       "      <th>cluster</th>\n",
       "      <th>overview</th>\n",
       "    </tr>\n",
       "  </thead>\n",
       "  <tbody>\n",
       "    <tr>\n",
       "      <th>0</th>\n",
       "      <td>Drama, Action</td>\n",
       "      <td>0</td>\n",
       "      <td>After dominating the boxing world, Adonis Cree...</td>\n",
       "    </tr>\n",
       "    <tr>\n",
       "      <th>1</th>\n",
       "      <td>Science Fiction, Adventure, Action</td>\n",
       "      <td>0</td>\n",
       "      <td>Set more than a decade after the events of the...</td>\n",
       "    </tr>\n",
       "    <tr>\n",
       "      <th>2</th>\n",
       "      <td>Animation, Adventure, Family, Fantasy, Comedy</td>\n",
       "      <td>0</td>\n",
       "      <td>While working underground to fix a water main,...</td>\n",
       "    </tr>\n",
       "    <tr>\n",
       "      <th>3</th>\n",
       "      <td>Animation, Comedy, Family, Adventure, Fantasy</td>\n",
       "      <td>2</td>\n",
       "      <td>Through a series of unfortunate events, three ...</td>\n",
       "    </tr>\n",
       "    <tr>\n",
       "      <th>4</th>\n",
       "      <td>Action</td>\n",
       "      <td>0</td>\n",
       "      <td>Good-hearted teenager William always lived in ...</td>\n",
       "    </tr>\n",
       "    <tr>\n",
       "      <th>...</th>\n",
       "      <td>...</td>\n",
       "      <td>...</td>\n",
       "      <td>...</td>\n",
       "    </tr>\n",
       "    <tr>\n",
       "      <th>10047</th>\n",
       "      <td>Drama</td>\n",
       "      <td>0</td>\n",
       "      <td>In 1979 Santa Barbara, California, Dorothea Fi...</td>\n",
       "    </tr>\n",
       "    <tr>\n",
       "      <th>10048</th>\n",
       "      <td>Action</td>\n",
       "      <td>3</td>\n",
       "      <td>When DEA agents are taken captive by a ruthles...</td>\n",
       "    </tr>\n",
       "    <tr>\n",
       "      <th>10049</th>\n",
       "      <td>Drama, Thriller, Romance</td>\n",
       "      <td>2</td>\n",
       "      <td>Barley Scott Blair, a Lisbon-based editor of R...</td>\n",
       "    </tr>\n",
       "    <tr>\n",
       "      <th>10050</th>\n",
       "      <td>Action, Adventure, Science Fiction, Thriller, ...</td>\n",
       "      <td>3</td>\n",
       "      <td>Darkman and Durant return and they hate each o...</td>\n",
       "    </tr>\n",
       "    <tr>\n",
       "      <th>10051</th>\n",
       "      <td>Animation, Family, Fantasy</td>\n",
       "      <td>1</td>\n",
       "      <td>Princess Odette and Prince Derek are going to ...</td>\n",
       "    </tr>\n",
       "  </tbody>\n",
       "</table>\n",
       "<p>10052 rows × 3 columns</p>\n",
       "</div>"
      ],
      "text/plain": [
       "                                                   genre  cluster   \n",
       "0                                          Drama, Action        0  \\\n",
       "1                     Science Fiction, Adventure, Action        0   \n",
       "2          Animation, Adventure, Family, Fantasy, Comedy        0   \n",
       "3          Animation, Comedy, Family, Adventure, Fantasy        2   \n",
       "4                                                 Action        0   \n",
       "...                                                  ...      ...   \n",
       "10047                                              Drama        0   \n",
       "10048                                             Action        3   \n",
       "10049                           Drama, Thriller, Romance        2   \n",
       "10050  Action, Adventure, Science Fiction, Thriller, ...        3   \n",
       "10051                         Animation, Family, Fantasy        1   \n",
       "\n",
       "                                                overview  \n",
       "0      After dominating the boxing world, Adonis Cree...  \n",
       "1      Set more than a decade after the events of the...  \n",
       "2      While working underground to fix a water main,...  \n",
       "3      Through a series of unfortunate events, three ...  \n",
       "4      Good-hearted teenager William always lived in ...  \n",
       "...                                                  ...  \n",
       "10047  In 1979 Santa Barbara, California, Dorothea Fi...  \n",
       "10048  When DEA agents are taken captive by a ruthles...  \n",
       "10049  Barley Scott Blair, a Lisbon-based editor of R...  \n",
       "10050  Darkman and Durant return and they hate each o...  \n",
       "10051  Princess Odette and Prince Derek are going to ...  \n",
       "\n",
       "[10052 rows x 3 columns]"
      ]
     },
     "execution_count": 39,
     "metadata": {},
     "output_type": "execute_result"
    }
   ],
   "source": [
    "data"
   ]
  },
  {
   "cell_type": "code",
   "execution_count": 40,
   "metadata": {},
   "outputs": [
    {
     "data": {
      "text/html": [
       "<div>\n",
       "<style scoped>\n",
       "    .dataframe tbody tr th:only-of-type {\n",
       "        vertical-align: middle;\n",
       "    }\n",
       "\n",
       "    .dataframe tbody tr th {\n",
       "        vertical-align: top;\n",
       "    }\n",
       "\n",
       "    .dataframe thead th {\n",
       "        text-align: right;\n",
       "    }\n",
       "</style>\n",
       "<table border=\"1\" class=\"dataframe\">\n",
       "  <thead>\n",
       "    <tr style=\"text-align: right;\">\n",
       "      <th></th>\n",
       "      <th>names</th>\n",
       "      <th>date</th>\n",
       "      <th>score</th>\n",
       "      <th>genre</th>\n",
       "      <th>overview</th>\n",
       "      <th>crew</th>\n",
       "      <th>orig_title</th>\n",
       "      <th>status</th>\n",
       "      <th>orig_lang</th>\n",
       "      <th>budget_x</th>\n",
       "      <th>revenue</th>\n",
       "      <th>country</th>\n",
       "      <th>cluster</th>\n",
       "    </tr>\n",
       "  </thead>\n",
       "  <tbody>\n",
       "    <tr>\n",
       "      <th>0</th>\n",
       "      <td>Creed III</td>\n",
       "      <td>03/02/2023</td>\n",
       "      <td>73.0</td>\n",
       "      <td>Drama, Action</td>\n",
       "      <td>After dominating the boxing world, Adonis Cree...</td>\n",
       "      <td>Michael B. Jordan, Adonis Creed, Tessa Thompso...</td>\n",
       "      <td>Creed III</td>\n",
       "      <td>Released</td>\n",
       "      <td>English</td>\n",
       "      <td>75000000.0</td>\n",
       "      <td>2.716167e+08</td>\n",
       "      <td>AU</td>\n",
       "      <td>0</td>\n",
       "    </tr>\n",
       "    <tr>\n",
       "      <th>1</th>\n",
       "      <td>Avatar: The Way of Water</td>\n",
       "      <td>12/15/2022</td>\n",
       "      <td>78.0</td>\n",
       "      <td>Science Fiction, Adventure, Action</td>\n",
       "      <td>Set more than a decade after the events of the...</td>\n",
       "      <td>Sam Worthington, Jake Sully, Zoe Saldaña, Neyt...</td>\n",
       "      <td>Avatar: The Way of Water</td>\n",
       "      <td>Released</td>\n",
       "      <td>English</td>\n",
       "      <td>460000000.0</td>\n",
       "      <td>2.316795e+09</td>\n",
       "      <td>AU</td>\n",
       "      <td>0</td>\n",
       "    </tr>\n",
       "    <tr>\n",
       "      <th>2</th>\n",
       "      <td>The Super Mario Bros. Movie</td>\n",
       "      <td>04/05/2023</td>\n",
       "      <td>76.0</td>\n",
       "      <td>Animation, Adventure, Family, Fantasy, Comedy</td>\n",
       "      <td>While working underground to fix a water main,...</td>\n",
       "      <td>Chris Pratt, Mario (voice), Anya Taylor-Joy, P...</td>\n",
       "      <td>The Super Mario Bros. Movie</td>\n",
       "      <td>Released</td>\n",
       "      <td>English</td>\n",
       "      <td>100000000.0</td>\n",
       "      <td>7.244590e+08</td>\n",
       "      <td>AU</td>\n",
       "      <td>0</td>\n",
       "    </tr>\n",
       "    <tr>\n",
       "      <th>3</th>\n",
       "      <td>Mummies</td>\n",
       "      <td>01/05/2023</td>\n",
       "      <td>70.0</td>\n",
       "      <td>Animation, Comedy, Family, Adventure, Fantasy</td>\n",
       "      <td>Through a series of unfortunate events, three ...</td>\n",
       "      <td>Óscar Barberán, Thut (voice), Ana Esther Albor...</td>\n",
       "      <td>Momias</td>\n",
       "      <td>Released</td>\n",
       "      <td>Spanish, Castilian</td>\n",
       "      <td>12300000.0</td>\n",
       "      <td>3.420000e+07</td>\n",
       "      <td>AU</td>\n",
       "      <td>2</td>\n",
       "    </tr>\n",
       "    <tr>\n",
       "      <th>4</th>\n",
       "      <td>Supercell</td>\n",
       "      <td>03/17/2023</td>\n",
       "      <td>61.0</td>\n",
       "      <td>Action</td>\n",
       "      <td>Good-hearted teenager William always lived in ...</td>\n",
       "      <td>Skeet Ulrich, Roy Cameron, Anne Heche, Dr Quin...</td>\n",
       "      <td>Supercell</td>\n",
       "      <td>Released</td>\n",
       "      <td>English</td>\n",
       "      <td>77000000.0</td>\n",
       "      <td>3.409420e+08</td>\n",
       "      <td>US</td>\n",
       "      <td>0</td>\n",
       "    </tr>\n",
       "  </tbody>\n",
       "</table>\n",
       "</div>"
      ],
      "text/plain": [
       "                         names         date  score   \n",
       "0                    Creed III  03/02/2023    73.0  \\\n",
       "1     Avatar: The Way of Water  12/15/2022    78.0   \n",
       "2  The Super Mario Bros. Movie  04/05/2023    76.0   \n",
       "3                      Mummies  01/05/2023    70.0   \n",
       "4                    Supercell  03/17/2023    61.0   \n",
       "\n",
       "                                           genre   \n",
       "0                                  Drama, Action  \\\n",
       "1             Science Fiction, Adventure, Action   \n",
       "2  Animation, Adventure, Family, Fantasy, Comedy   \n",
       "3  Animation, Comedy, Family, Adventure, Fantasy   \n",
       "4                                         Action   \n",
       "\n",
       "                                            overview   \n",
       "0  After dominating the boxing world, Adonis Cree...  \\\n",
       "1  Set more than a decade after the events of the...   \n",
       "2  While working underground to fix a water main,...   \n",
       "3  Through a series of unfortunate events, three ...   \n",
       "4  Good-hearted teenager William always lived in ...   \n",
       "\n",
       "                                                crew   \n",
       "0  Michael B. Jordan, Adonis Creed, Tessa Thompso...  \\\n",
       "1  Sam Worthington, Jake Sully, Zoe Saldaña, Neyt...   \n",
       "2  Chris Pratt, Mario (voice), Anya Taylor-Joy, P...   \n",
       "3  Óscar Barberán, Thut (voice), Ana Esther Albor...   \n",
       "4  Skeet Ulrich, Roy Cameron, Anne Heche, Dr Quin...   \n",
       "\n",
       "                    orig_title     status            orig_lang     budget_x   \n",
       "0                    Creed III   Released              English   75000000.0  \\\n",
       "1     Avatar: The Way of Water   Released              English  460000000.0   \n",
       "2  The Super Mario Bros. Movie   Released              English  100000000.0   \n",
       "3                       Momias   Released   Spanish, Castilian   12300000.0   \n",
       "4                    Supercell   Released              English   77000000.0   \n",
       "\n",
       "        revenue country  cluster  \n",
       "0  2.716167e+08      AU        0  \n",
       "1  2.316795e+09      AU        0  \n",
       "2  7.244590e+08      AU        0  \n",
       "3  3.420000e+07      AU        2  \n",
       "4  3.409420e+08      US        0  "
      ]
     },
     "execution_count": 40,
     "metadata": {},
     "output_type": "execute_result"
    }
   ],
   "source": [
    "df['cluster'] = data['cluster']\n",
    "df.head()"
   ]
  },
  {
   "cell_type": "markdown",
   "metadata": {},
   "source": [
    "**Analyzing Revenue in Genre Clusters**"
   ]
  },
  {
   "cell_type": "code",
   "execution_count": 41,
   "metadata": {},
   "outputs": [
    {
     "data": {
      "text/plain": [
       "cluster\n",
       "0    64.808043\n",
       "3    64.167598\n",
       "2    63.275393\n",
       "1    62.817333\n",
       "Name: score, dtype: float64"
      ]
     },
     "execution_count": 41,
     "metadata": {},
     "output_type": "execute_result"
    }
   ],
   "source": [
    "df.groupby('cluster')['score'].mean().sort_values(ascending= False)"
   ]
  },
  {
   "cell_type": "code",
   "execution_count": 62,
   "metadata": {},
   "outputs": [
    {
     "name": "stderr",
     "output_type": "stream",
     "text": [
      "C:\\Users\\user\\AppData\\Local\\Temp\\ipykernel_12476\\2809573530.py:3: FutureWarning: \n",
      "\n",
      "Passing `palette` without assigning `hue` is deprecated and will be removed in v0.14.0. Assign the `y` variable to `hue` and set `legend=False` for the same effect.\n",
      "\n",
      "  plot = sns.barplot(data=df, y='cluster', x='score', orient='h', palette='Blues_r', order=order)\n"
     ]
    },
    {
     "data": {
      "image/png": "[encoded data removed]",
      "text/plain": [
       "<Figure size 1400x600 with 1 Axes>"
      ]
     },
     "metadata": {},
     "output_type": "display_data"
    }
   ],
   "source": [
    "plt.figure(figsize=(14,6))\n",
    "order = df.groupby('cluster')['score'].mean().sort_values(ascending=False).index\n",
    "plot = sns.barplot(data=df, y='cluster', x='score', orient='h', palette='Blues_r', order=order)\n",
    "plot.set_title('Average Score by Genre Cluster')\n",
    "plot.bar_label(plot.containers[0], fmt='%.2f')\n",
    "plt.show()"
   ]
  },
  {
   "cell_type": "code",
   "execution_count": 74,
   "metadata": {},
   "outputs": [],
   "source": [
    "genre_cluster.to_csv('genre_cluster.csv')"
   ]
  },
  {
   "cell_type": "markdown",
   "metadata": {},
   "source": [
    "`Cluster 0` gave the highest average score of **64.8%**"
   ]
  },
  {
   "cell_type": "markdown",
   "metadata": {},
   "source": [
    "**Standarization for Modeling**"
   ]
  },
  {
   "cell_type": "code",
   "execution_count": 45,
   "metadata": {},
   "outputs": [],
   "source": [
    "def applyStandardScaler(data, attributes):\n",
    "    for attr in attributes:\n",
    "        data[attr+'_scaled'] = StandardScaler().fit_transform(data[[attr]])\n",
    "        \n",
    "attributes =heatmap.columns.tolist()  \n",
    "applyStandardScaler(data= heatmap, attributes=attributes)"
   ]
  },
  {
   "cell_type": "markdown",
   "metadata": {},
   "source": [
    "**Using One Hot Encoding**"
   ]
  },
  {
   "cell_type": "code",
   "execution_count": 46,
   "metadata": {},
   "outputs": [
    {
     "data": {
      "text/html": [
       "<div>\n",
       "<style scoped>\n",
       "    .dataframe tbody tr th:only-of-type {\n",
       "        vertical-align: middle;\n",
       "    }\n",
       "\n",
       "    .dataframe tbody tr th {\n",
       "        vertical-align: top;\n",
       "    }\n",
       "\n",
       "    .dataframe thead th {\n",
       "        text-align: right;\n",
       "    }\n",
       "</style>\n",
       "<table border=\"1\" class=\"dataframe\">\n",
       "  <thead>\n",
       "    <tr style=\"text-align: right;\">\n",
       "      <th></th>\n",
       "      <th>g_cluster_0</th>\n",
       "      <th>g_cluster_1</th>\n",
       "      <th>g_cluster_2</th>\n",
       "      <th>g_cluster_3</th>\n",
       "    </tr>\n",
       "  </thead>\n",
       "  <tbody>\n",
       "    <tr>\n",
       "      <th>0</th>\n",
       "      <td>True</td>\n",
       "      <td>False</td>\n",
       "      <td>False</td>\n",
       "      <td>False</td>\n",
       "    </tr>\n",
       "    <tr>\n",
       "      <th>1</th>\n",
       "      <td>True</td>\n",
       "      <td>False</td>\n",
       "      <td>False</td>\n",
       "      <td>False</td>\n",
       "    </tr>\n",
       "    <tr>\n",
       "      <th>2</th>\n",
       "      <td>True</td>\n",
       "      <td>False</td>\n",
       "      <td>False</td>\n",
       "      <td>False</td>\n",
       "    </tr>\n",
       "    <tr>\n",
       "      <th>3</th>\n",
       "      <td>False</td>\n",
       "      <td>False</td>\n",
       "      <td>True</td>\n",
       "      <td>False</td>\n",
       "    </tr>\n",
       "    <tr>\n",
       "      <th>4</th>\n",
       "      <td>True</td>\n",
       "      <td>False</td>\n",
       "      <td>False</td>\n",
       "      <td>False</td>\n",
       "    </tr>\n",
       "  </tbody>\n",
       "</table>\n",
       "</div>"
      ],
      "text/plain": [
       "   g_cluster_0  g_cluster_1  g_cluster_2  g_cluster_3\n",
       "0         True        False        False        False\n",
       "1         True        False        False        False\n",
       "2         True        False        False        False\n",
       "3        False        False         True        False\n",
       "4         True        False        False        False"
      ]
     },
     "execution_count": 46,
     "metadata": {},
     "output_type": "execute_result"
    }
   ],
   "source": [
    "one_hot_genre = pd.get_dummies(df['cluster'], prefix='g_cluster')\n",
    "one_hot_genre.head()"
   ]
  },
  {
   "cell_type": "code",
   "execution_count": 47,
   "metadata": {},
   "outputs": [
    {
     "data": {
      "text/plain": [
       "Index(['score', 'budget_x', 'revenue', 'status', 'orig_lang', 'country',\n",
       "       'score_scaled', 'budget_x_scaled', 'revenue_scaled', 'status_scaled',\n",
       "       'orig_lang_scaled', 'country_scaled'],\n",
       "      dtype='object')"
      ]
     },
     "execution_count": 47,
     "metadata": {},
     "output_type": "execute_result"
    }
   ],
   "source": [
    "heatmap.columns"
   ]
  },
  {
   "cell_type": "markdown",
   "metadata": {},
   "source": [
    "**Feature Selection**"
   ]
  },
  {
   "cell_type": "code",
   "execution_count": 48,
   "metadata": {},
   "outputs": [
    {
     "name": "stderr",
     "output_type": "stream",
     "text": [
      "C:\\Users\\user\\AppData\\Local\\Temp\\ipykernel_12476\\1490991826.py:8: SettingWithCopyWarning: \n",
      "A value is trying to be set on a copy of a slice from a DataFrame.\n",
      "Try using .loc[row_indexer,col_indexer] = value instead\n",
      "\n",
      "See the caveats in the documentation: https://pandas.pydata.org/pandas-docs/stable/user_guide/indexing.html#returning-a-view-versus-a-copy\n",
      "  x1[one_hot_genre.columns] = one_hot_genre\n",
      "C:\\Users\\user\\AppData\\Local\\Temp\\ipykernel_12476\\1490991826.py:8: SettingWithCopyWarning: \n",
      "A value is trying to be set on a copy of a slice from a DataFrame.\n",
      "Try using .loc[row_indexer,col_indexer] = value instead\n",
      "\n",
      "See the caveats in the documentation: https://pandas.pydata.org/pandas-docs/stable/user_guide/indexing.html#returning-a-view-versus-a-copy\n",
      "  x1[one_hot_genre.columns] = one_hot_genre\n",
      "C:\\Users\\user\\AppData\\Local\\Temp\\ipykernel_12476\\1490991826.py:8: SettingWithCopyWarning: \n",
      "A value is trying to be set on a copy of a slice from a DataFrame.\n",
      "Try using .loc[row_indexer,col_indexer] = value instead\n",
      "\n",
      "See the caveats in the documentation: https://pandas.pydata.org/pandas-docs/stable/user_guide/indexing.html#returning-a-view-versus-a-copy\n",
      "  x1[one_hot_genre.columns] = one_hot_genre\n",
      "C:\\Users\\user\\AppData\\Local\\Temp\\ipykernel_12476\\1490991826.py:8: SettingWithCopyWarning: \n",
      "A value is trying to be set on a copy of a slice from a DataFrame.\n",
      "Try using .loc[row_indexer,col_indexer] = value instead\n",
      "\n",
      "See the caveats in the documentation: https://pandas.pydata.org/pandas-docs/stable/user_guide/indexing.html#returning-a-view-versus-a-copy\n",
      "  x1[one_hot_genre.columns] = one_hot_genre\n"
     ]
    },
    {
     "data": {
      "text/plain": [
       "Index(['revenue_scaled', 'budget_x_scaled', 'status_scaled',\n",
       "       'orig_lang_scaled', 'country_scaled', 'g_cluster_0', 'g_cluster_1',\n",
       "       'g_cluster_2', 'g_cluster_3'],\n",
       "      dtype='object')"
      ]
     },
     "execution_count": 48,
     "metadata": {},
     "output_type": "execute_result"
    }
   ],
   "source": [
    "attr = ['revenue_scaled', 'budget_x_scaled', 'status_scaled',\n",
    "       'orig_lang_scaled', 'country_scaled']\n",
    "\n",
    "y = heatmap['score_scaled']\n",
    "\n",
    "#features\n",
    "x1 = heatmap[attr] \n",
    "x1[one_hot_genre.columns] = one_hot_genre\n",
    "\n",
    "x1.columns"
   ]
  },
  {
   "cell_type": "markdown",
   "metadata": {},
   "source": [
    "**Hyperparameter Tuning**"
   ]
  },
  {
   "cell_type": "code",
   "execution_count": 59,
   "metadata": {},
   "outputs": [
    {
     "name": "stdout",
     "output_type": "stream",
     "text": [
      "Fitting 4 folds for each of 2 candidates, totalling 8 fits\n"
     ]
    },
    {
     "data": {
      "text/plain": [
       "({'max_depth': None,\n",
       "  'min_samples_leaf': 4,\n",
       "  'min_samples_split': 4,\n",
       "  'n_estimators': 400,\n",
       "  'n_jobs': -1},\n",
       " 0.5115469941638204)"
      ]
     },
     "execution_count": 59,
     "metadata": {},
     "output_type": "execute_result"
    }
   ],
   "source": [
    "percent = 25\n",
    "cv_percent = int(x1.shape[0]//(x1.shape[0]*percent/100))\n",
    "\n",
    "\n",
    "param_grid = {\n",
    "        'n_estimators': [400],\n",
    "        'max_depth': [None],\n",
    "        'min_samples_split': [2,4],\n",
    "        'min_samples_leaf': [4],\n",
    "        'n_jobs': [-1]\n",
    "    }\n",
    "\n",
    "\n",
    "rf = RandomForestRegressor()\n",
    "\n",
    "grid_search = GridSearchCV(estimator=rf, param_grid=param_grid, cv=cv_percent, verbose=1)\n",
    "grid_search.fit(x1, y)\n",
    "\n",
    "best_params = grid_search.best_params_\n",
    "best_score = grid_search.best_score_\n",
    "\n",
    "best_params, best_score"
   ]
  },
  {
   "cell_type": "markdown",
   "metadata": {},
   "source": [
    "**Model Training & Evaluation**"
   ]
  },
  {
   "cell_type": "code",
   "execution_count": 60,
   "metadata": {},
   "outputs": [
    {
     "data": {
      "text/plain": [
       "(0.656432654808469,\n",
       " 0.4309038302988947,\n",
       " 0.49751077543763517,\n",
       " 5.043158072249534,\n",
       " 0.5501749300993012)"
      ]
     },
     "execution_count": 60,
     "metadata": {},
     "output_type": "execute_result"
    }
   ],
   "source": [
    "from sklearn.model_selection import train_test_split\n",
    "import sklearn.metrics as skm\n",
    "\n",
    "best_params = {\n",
    "        'max_depth': None,             # Maximum depth of each tree in the forest\n",
    "        'min_samples_leaf': 4,         # Minimum no of samples required to be at a leaf node\n",
    "        'min_samples_split': 2,        # Minimum no of samples required to split an internal node\n",
    "        'n_estimators': 200,           # Number of trees in the random forest\n",
    "        'random_state': 42,           # Seed for random number generation \n",
    "        'n_jobs': -1                   # Number of CPU cores to use for parallel computation\n",
    "    }\n",
    "\n",
    "rf1 = RandomForestRegressor(    \n",
    "    max_depth=best_params['max_depth'],\n",
    "    n_estimators=best_params['n_estimators'],\n",
    "    min_samples_split=best_params['min_samples_split'],\n",
    "    min_samples_leaf=best_params['min_samples_leaf'],\n",
    "    random_state=best_params['random_state'],\n",
    "    n_jobs=-1\n",
    ")\n",
    "# Split the data into training and testing sets\n",
    "x_train, x_test, y_train, y_test = train_test_split(x1, y, test_size=0.25, random_state=42)\n",
    "# Fit the decision tree regressor on the training data\n",
    "rf1.fit(x_train, y_train)\n",
    "# Predict on the testing data\n",
    "y_pred = rf1.predict(x_test)\n",
    "# Calculate the mean squared error and root mean squared error\n",
    "mse = skm.mean_squared_error(y_test, y_pred)\n",
    "rmse = skm.mean_squared_error(y_test, y_pred, squared=False)\n",
    "# Calculate the mean absolute error\n",
    "mae = skm.mean_absolute_error(y_test, y_pred)\n",
    "# Calculate the max error\n",
    "mxe = skm.max_error(y_test, y_pred)\n",
    "r2 = skm.r2_score(y_test, y_pred)\n",
    "rmse, mse, mae, mxe, r2"
   ]
  },
  {
   "cell_type": "markdown",
   "metadata": {},
   "source": [
    "**Feature Importance**"
   ]
  },
  {
   "cell_type": "code",
   "execution_count": 61,
   "metadata": {},
   "outputs": [
    {
     "data": {
      "image/png": "[encoded data removed]",
      "text/plain": [
       "<Figure size 1000x600 with 1 Axes>"
      ]
     },
     "metadata": {},
     "output_type": "display_data"
    }
   ],
   "source": [
    "feature_importances = rf1.feature_importances_\n",
    "feature_names = x1.columns\n",
    "sorted_indices = feature_importances.argsort()[::-1]\n",
    "sorted_feature_importances = feature_importances[sorted_indices]\n",
    "sorted_feature_names = feature_names[sorted_indices]\n",
    "plt.figure(figsize=(10, 6))\n",
    "plt.barh(range(len(sorted_feature_importances)), sorted_feature_importances, align='center')\n",
    "plt.yticks(range(len(sorted_feature_importances)), sorted_feature_names)\n",
    "plt.xlabel('Feature Importance')\n",
    "plt.ylabel('Feature')\n",
    "plt.title('Feature Importances')\n",
    "plt.show()"
   ]
  },
  {
   "cell_type": "code",
   "execution_count": 268,
   "metadata": {},
   "outputs": [
    {
     "data": {
      "text/html": [
       "<div>\n",
       "<style scoped>\n",
       "    .dataframe tbody tr th:only-of-type {\n",
       "        vertical-align: middle;\n",
       "    }\n",
       "\n",
       "    .dataframe tbody tr th {\n",
       "        vertical-align: top;\n",
       "    }\n",
       "\n",
       "    .dataframe thead th {\n",
       "        text-align: right;\n",
       "    }\n",
       "</style>\n",
       "<table border=\"1\" class=\"dataframe\">\n",
       "  <thead>\n",
       "    <tr style=\"text-align: right;\">\n",
       "      <th></th>\n",
       "      <th>columns</th>\n",
       "      <th>Feature Importance</th>\n",
       "    </tr>\n",
       "  </thead>\n",
       "  <tbody>\n",
       "    <tr>\n",
       "      <th>0</th>\n",
       "      <td>revenue_scaled</td>\n",
       "      <td>0.514798</td>\n",
       "    </tr>\n",
       "    <tr>\n",
       "      <th>1</th>\n",
       "      <td>budget_x_scaled</td>\n",
       "      <td>0.256831</td>\n",
       "    </tr>\n",
       "    <tr>\n",
       "      <th>2</th>\n",
       "      <td>status_scaled</td>\n",
       "      <td>0.076321</td>\n",
       "    </tr>\n",
       "    <tr>\n",
       "      <th>3</th>\n",
       "      <td>orig_lang_scaled</td>\n",
       "      <td>0.032266</td>\n",
       "    </tr>\n",
       "    <tr>\n",
       "      <th>4</th>\n",
       "      <td>country_scaled</td>\n",
       "      <td>0.088768</td>\n",
       "    </tr>\n",
       "    <tr>\n",
       "      <th>5</th>\n",
       "      <td>g_cluster_0</td>\n",
       "      <td>0.008924</td>\n",
       "    </tr>\n",
       "    <tr>\n",
       "      <th>6</th>\n",
       "      <td>g_cluster_1</td>\n",
       "      <td>0.007595</td>\n",
       "    </tr>\n",
       "    <tr>\n",
       "      <th>7</th>\n",
       "      <td>g_cluster_2</td>\n",
       "      <td>0.007152</td>\n",
       "    </tr>\n",
       "    <tr>\n",
       "      <th>8</th>\n",
       "      <td>g_cluster_3</td>\n",
       "      <td>0.007344</td>\n",
       "    </tr>\n",
       "  </tbody>\n",
       "</table>\n",
       "</div>"
      ],
      "text/plain": [
       "            columns  Feature Importance\n",
       "0    revenue_scaled            0.514798\n",
       "1   budget_x_scaled            0.256831\n",
       "2     status_scaled            0.076321\n",
       "3  orig_lang_scaled            0.032266\n",
       "4    country_scaled            0.088768\n",
       "5       g_cluster_0            0.008924\n",
       "6       g_cluster_1            0.007595\n",
       "7       g_cluster_2            0.007152\n",
       "8       g_cluster_3            0.007344"
      ]
     },
     "execution_count": 268,
     "metadata": {},
     "output_type": "execute_result"
    }
   ],
   "source": [
    "importance= pd.DataFrame(columns=(['columns','Feature Importance']))\n",
    "importance['columns']= x1.columns\n",
    "importance['Feature Importance']= feature_importances\n",
    "importance"
   ]
  },
  {
   "cell_type": "code",
   "execution_count": 269,
   "metadata": {},
   "outputs": [],
   "source": [
    "importance.to_csv('feature_importance.csv')"
   ]
  },
  {
   "cell_type": "markdown",
   "metadata": {},
   "source": [
    "**Recommendation System**"
   ]
  },
  {
   "cell_type": "code",
   "execution_count": 90,
   "metadata": {},
   "outputs": [
    {
     "data": {
      "text/html": [
       "<div>\n",
       "<style scoped>\n",
       "    .dataframe tbody tr th:only-of-type {\n",
       "        vertical-align: middle;\n",
       "    }\n",
       "\n",
       "    .dataframe tbody tr th {\n",
       "        vertical-align: top;\n",
       "    }\n",
       "\n",
       "    .dataframe thead th {\n",
       "        text-align: right;\n",
       "    }\n",
       "</style>\n",
       "<table border=\"1\" class=\"dataframe\">\n",
       "  <thead>\n",
       "    <tr style=\"text-align: right;\">\n",
       "      <th></th>\n",
       "      <th>genre</th>\n",
       "      <th>overview</th>\n",
       "    </tr>\n",
       "  </thead>\n",
       "  <tbody>\n",
       "    <tr>\n",
       "      <th>0</th>\n",
       "      <td>Drama, Action</td>\n",
       "      <td>After dominating the boxing world, Adonis Cree...</td>\n",
       "    </tr>\n",
       "    <tr>\n",
       "      <th>1</th>\n",
       "      <td>Science Fiction, Adventure, Action</td>\n",
       "      <td>Set more than a decade after the events of the...</td>\n",
       "    </tr>\n",
       "    <tr>\n",
       "      <th>2</th>\n",
       "      <td>Animation, Adventure, Family, Fantasy, Comedy</td>\n",
       "      <td>While working underground to fix a water main,...</td>\n",
       "    </tr>\n",
       "    <tr>\n",
       "      <th>3</th>\n",
       "      <td>Animation, Comedy, Family, Adventure, Fantasy</td>\n",
       "      <td>Through a series of unfortunate events, three ...</td>\n",
       "    </tr>\n",
       "    <tr>\n",
       "      <th>4</th>\n",
       "      <td>Action</td>\n",
       "      <td>Good-hearted teenager William always lived in ...</td>\n",
       "    </tr>\n",
       "    <tr>\n",
       "      <th>...</th>\n",
       "      <td>...</td>\n",
       "      <td>...</td>\n",
       "    </tr>\n",
       "    <tr>\n",
       "      <th>10047</th>\n",
       "      <td>Drama</td>\n",
       "      <td>In 1979 Santa Barbara, California, Dorothea Fi...</td>\n",
       "    </tr>\n",
       "    <tr>\n",
       "      <th>10048</th>\n",
       "      <td>Action</td>\n",
       "      <td>When DEA agents are taken captive by a ruthles...</td>\n",
       "    </tr>\n",
       "    <tr>\n",
       "      <th>10049</th>\n",
       "      <td>Drama, Thriller, Romance</td>\n",
       "      <td>Barley Scott Blair, a Lisbon-based editor of R...</td>\n",
       "    </tr>\n",
       "    <tr>\n",
       "      <th>10050</th>\n",
       "      <td>Action, Adventure, Science Fiction, Thriller, ...</td>\n",
       "      <td>Darkman and Durant return and they hate each o...</td>\n",
       "    </tr>\n",
       "    <tr>\n",
       "      <th>10051</th>\n",
       "      <td>Animation, Family, Fantasy</td>\n",
       "      <td>Princess Odette and Prince Derek are going to ...</td>\n",
       "    </tr>\n",
       "  </tbody>\n",
       "</table>\n",
       "<p>10052 rows × 2 columns</p>\n",
       "</div>"
      ],
      "text/plain": [
       "                                                   genre   \n",
       "0                                          Drama, Action  \\\n",
       "1                     Science Fiction, Adventure, Action   \n",
       "2          Animation, Adventure, Family, Fantasy, Comedy   \n",
       "3          Animation, Comedy, Family, Adventure, Fantasy   \n",
       "4                                                 Action   \n",
       "...                                                  ...   \n",
       "10047                                              Drama   \n",
       "10048                                             Action   \n",
       "10049                           Drama, Thriller, Romance   \n",
       "10050  Action, Adventure, Science Fiction, Thriller, ...   \n",
       "10051                         Animation, Family, Fantasy   \n",
       "\n",
       "                                                overview  \n",
       "0      After dominating the boxing world, Adonis Cree...  \n",
       "1      Set more than a decade after the events of the...  \n",
       "2      While working underground to fix a water main,...  \n",
       "3      Through a series of unfortunate events, three ...  \n",
       "4      Good-hearted teenager William always lived in ...  \n",
       "...                                                  ...  \n",
       "10047  In 1979 Santa Barbara, California, Dorothea Fi...  \n",
       "10048  When DEA agents are taken captive by a ruthles...  \n",
       "10049  Barley Scott Blair, a Lisbon-based editor of R...  \n",
       "10050  Darkman and Durant return and they hate each o...  \n",
       "10051  Princess Odette and Prince Derek are going to ...  \n",
       "\n",
       "[10052 rows x 2 columns]"
      ]
     },
     "execution_count": 90,
     "metadata": {},
     "output_type": "execute_result"
    }
   ],
   "source": [
    "df_2 = data[['genre', 'overview']]\n",
    "df_2"
   ]
  },
  {
   "cell_type": "code",
   "execution_count": 91,
   "metadata": {},
   "outputs": [
    {
     "name": "stderr",
     "output_type": "stream",
     "text": [
      "[nltk_data] Downloading package stopwords to\n",
      "[nltk_data]     C:\\Users\\user\\AppData\\Roaming\\nltk_data...\n",
      "[nltk_data]   Package stopwords is already up-to-date!\n",
      "[nltk_data] Downloading package punkt to\n",
      "[nltk_data]     C:\\Users\\user\\AppData\\Roaming\\nltk_data...\n",
      "[nltk_data]   Package punkt is already up-to-date!\n"
     ]
    }
   ],
   "source": [
    "import re\n",
    "import nltk\n",
    "from sklearn.feature_extraction.text import TfidfVectorizer\n",
    "from sklearn.metrics.pairwise import cosine_similarity\n",
    "nltk.download('stopwords')\n",
    "nltk.download('punkt')\n",
    "from nltk import word_tokenize\n",
    "from nltk.corpus import stopwords"
   ]
  },
  {
   "cell_type": "code",
   "execution_count": 95,
   "metadata": {},
   "outputs": [],
   "source": [
    "def clean_desc(s):\n",
    "    s = str(s)\n",
    "    s = s.lower()\n",
    "    s = re.sub(r'[^a-zA-Z]', ' ', s)\n",
    "    s= re.sub('[+-]?[0-9]+','',s)\n",
    "    return s\n",
    "  \n",
    "# make a copy of the main data and do the preprocessing steps on that data\n",
    "df_2['clean_desc'] = df_2['overview'].apply(clean_desc)\n",
    "\n",
    "#tokenizing the words for lemmatization and removing stopwords\n",
    "df_2['clean_desc'] = df_2['clean_desc'].apply(word_tokenize)\n",
    "df_2['clean_desc'] = df_2['clean_desc'].apply(\n",
    "  lambda x:[word for word in x if word not in set(stopwords.words('english'))]\n",
    ")\n",
    "\n",
    "# joining the words after lemmatization and stopword removal\n",
    "df_2['clean_desc'] = df_2['clean_desc'].apply(lambda x: ' '.join(x))"
   ]
  },
  {
   "cell_type": "markdown",
   "metadata": {},
   "source": [
    "**Stemming**"
   ]
  },
  {
   "cell_type": "code",
   "execution_count": 176,
   "metadata": {},
   "outputs": [],
   "source": [
    "import nltk\n",
    "from nltk.stem.porter import PorterStemmer\n",
    "ps = PorterStemmer()\n",
    "\n",
    "def stem(text):\n",
    "    y = []\n",
    "    for i in text.split():\n",
    "        y.append(ps.stem(i))\n",
    "\n",
    "    return \" \".join(y)"
   ]
  },
  {
   "cell_type": "markdown",
   "metadata": {},
   "source": [
    "**Lemmatization**"
   ]
  },
  {
   "attachments": {
    "image.png": {
     "image/png": "[encoded data removed]"
    }
   },
   "cell_type": "markdown",
   "metadata": {},
   "source": [
    "![image.png](attachment:image.png)"
   ]
  },
  {
   "cell_type": "code",
   "execution_count": null,
   "metadata": {},
   "outputs": [],
   "source": [
    "from nltk.stem import WordNetLemmatizer\n",
    "nltk.download(\"wordnet\")\n",
    "nltk.download(\"omw-1.4\")\n",
    "# Initialize wordnet lemmatizer\n",
    "wnl = WordNetLemmatizer()\n",
    "# Example inflections to reduce\n",
    "example_words = [\"program\",\"programming\",\"programer\",\"programs\",\"programmed\"]\n",
    "# Perform lemmatization\n",
    "print(\"{0:20}{1:20}\".format(\"--Word--\",\"--Lemma--\"))\n",
    "for word in example_words:\n",
    "   print (\"{0:20}{1:20}\".format(word, wnl.lemmatize(word, pos=\"v\")))\n",
    "\n",
    "\"\"\"\n",
    "--Word--            --Lemma--           \n",
    "program             program             \n",
    "programming         program             \n",
    "programer           programer           \n",
    "programs            program             \n",
    "programmed          program\n",
    "\"\"\"   "
   ]
  },
  {
   "cell_type": "code",
   "execution_count": 178,
   "metadata": {},
   "outputs": [],
   "source": [
    "genre_cluster= map_genre_to_doc2vec(df_2)"
   ]
  },
  {
   "cell_type": "code",
   "execution_count": 179,
   "metadata": {},
   "outputs": [],
   "source": [
    "df_2['clean_desc'] = df_2['clean_desc'].apply(stem)"
   ]
  },
  {
   "cell_type": "code",
   "execution_count": 228,
   "metadata": {},
   "outputs": [],
   "source": [
    "tfidf = TfidfVectorizer(min_df = 1, max_df = 0.7)\n",
    "\n",
    "X = tfidf.fit_transform(df_2['clean_desc'])\n",
    "\n",
    "tfidf_df = pd.DataFrame(X.toarray(), columns = tfidf.get_feature_names_out())\n",
    "tfidf_df.index = df['names']\n",
    "tfidf_df.to_csv(\"tfidf_data.csv\")"
   ]
  },
  {
   "cell_type": "code",
   "execution_count": null,
   "metadata": {},
   "outputs": [],
   "source": [
    "df_2['names']= df['names']\n",
    "df_2.drop('genre', axis= 1, inplace= True)"
   ]
  },
  {
   "cell_type": "code",
   "execution_count": 183,
   "metadata": {},
   "outputs": [],
   "source": [
    "df_2= df_2[['names', 'overview', 'clean_desc']]"
   ]
  },
  {
   "cell_type": "markdown",
   "metadata": {},
   "source": [
    "**CountVectorizer**"
   ]
  },
  {
   "cell_type": "code",
   "execution_count": 229,
   "metadata": {},
   "outputs": [],
   "source": [
    "from sklearn.feature_extraction.text import CountVectorizer\n",
    "vectorizer = CountVectorizer()\n",
    "countvec = vectorizer.fit_transform(df_2['clean_desc'])\n",
    "countvectorizer= countvec.toarray()"
   ]
  },
  {
   "cell_type": "code",
   "execution_count": 230,
   "metadata": {},
   "outputs": [],
   "source": [
    "vectors= X.toarray()\n"
   ]
  },
  {
   "cell_type": "markdown",
   "metadata": {},
   "source": [
    "**Eucledian distance not a good option for higher dimensionality - the solution is using cosine distance**"
   ]
  },
  {
   "cell_type": "code",
   "execution_count": 236,
   "metadata": {},
   "outputs": [],
   "source": [
    "from sklearn.metrics.pairwise import cosine_similarity\n",
    "similarity = cosine_similarity(vectors)\n",
    "similarity2 = cosine_similarity(countvectorizer)"
   ]
  },
  {
   "cell_type": "code",
   "execution_count": 221,
   "metadata": {},
   "outputs": [
    {
     "data": {
      "text/plain": [
       "(10052, 10052)"
      ]
     },
     "execution_count": 221,
     "metadata": {},
     "output_type": "execute_result"
    }
   ],
   "source": [
    "similarity.shape"
   ]
  },
  {
   "cell_type": "code",
   "execution_count": 213,
   "metadata": {},
   "outputs": [],
   "source": [
    "def recommend_scapy(movie):\n",
    "    index = df_2[df_2['names'] == movie].index[0]\n",
    "    distances = sorted(list(enumerate(genre_vector[index])),reverse=True,key = lambda x: x[1])\n",
    "    for i in distances[1:6]:\n",
    "        print(df_2.iloc[i[0]].names)"
   ]
  },
  {
   "cell_type": "code",
   "execution_count": 297,
   "metadata": {},
   "outputs": [],
   "source": [
    "def recommend_tfidf(movie):\n",
    "    index = df_2[df_2['names'] == movie].index[0]\n",
    "    distances = sorted(list(enumerate(similarity[index])),reverse=True,key = lambda x: x[1])\n",
    "    for i in distances[1:20]:\n",
    "        print(df_2.iloc[i[0]].names)\n",
    "        "
   ]
  },
  {
   "cell_type": "code",
   "execution_count": 300,
   "metadata": {},
   "outputs": [],
   "source": [
    "def recommend(movie):\n",
    "    movie_index = df[df['names'] == movie].index[0]\n",
    "    distances = similarity[movie_index]\n",
    "    movies_list = sorted(list(enumerate(distances)), reverse=True, key=lambda x: x[1])[1:20]\n",
    "\n",
    "    recommended_movies = []\n",
    "    scores = []\n",
    "    for i in movies_list:\n",
    "        recommended_movies.append(df.iloc[i[0]].orig_title)\n",
    "        scores.append(df.iloc[i[0]].score)\n",
    "\n",
    "    return recommended_movies,scores"
   ]
  },
  {
   "cell_type": "code",
   "execution_count": 304,
   "metadata": {},
   "outputs": [
    {
     "data": {
      "text/plain": [
       "[75.0,\n",
       " 75.0,\n",
       " 85.0,\n",
       " 64.0,\n",
       " 67.0,\n",
       " 77.0,\n",
       " 71.0,\n",
       " 72.0,\n",
       " 75.0,\n",
       " 77.0,\n",
       " 43.0,\n",
       " 73.0,\n",
       " 67.0,\n",
       " 73.0,\n",
       " 54.0,\n",
       " 72.0,\n",
       " 72.0,\n",
       " 75.0,\n",
       " 77.0]"
      ]
     },
     "execution_count": 304,
     "metadata": {},
     "output_type": "execute_result"
    }
   ],
   "source": [
    "scores= recommend('The Dark Knight Rises')[1]\n",
    "scores"
   ]
  },
  {
   "cell_type": "code",
   "execution_count": 298,
   "metadata": {},
   "outputs": [
    {
     "name": "stdout",
     "output_type": "stream",
     "text": [
      "The Batman vs. Dracula\n",
      "The Dark Knight\n",
      "Batman Returns\n",
      "Batman Beyond: Return of the Joker\n",
      "Batman Unmasked: The Psychology of 'The Dark Knight'\n",
      "Batman Begins\n",
      "The Batman\n",
      "Lego DC Batman: Family Matters\n",
      "Batman: Under the Red Hood\n",
      "Batman: Gotham by Gaslight\n",
      "Batman: The Killing Joke\n",
      "Batman: The Long Halloween, Part Two\n",
      "Batman: The Dark Knight Returns, Part 1\n",
      "Batman & Robin\n",
      "The Marine 2\n",
      "Hummingbird\n",
      "The Dark Knight Rises\n",
      "Batman: Death in the Family\n",
      "Batman: Mystery of the Batwoman\n"
     ]
    }
   ],
   "source": [
    "recommend_tfidf('Batman')"
   ]
  },
  {
   "cell_type": "code",
   "execution_count": 237,
   "metadata": {},
   "outputs": [],
   "source": [
    "import pickle\n",
    "\n",
    "pickle.dump(df_2,open('movies.pkl','wb'))\n",
    "pickle.dump(df_2.to_dict(),open('movie_dict.pkl','wb'))\n",
    "pickle.dump(similarity,open('similarity.pkl','wb'))"
   ]
  },
  {
   "cell_type": "code",
   "execution_count": 191,
   "metadata": {},
   "outputs": [],
   "source": [
    "\n",
    "import pickle\n",
    "import pandas as pd\n",
    "import streamlit as st\n",
    "from streamlit import session_state as session"
   ]
  },
  {
   "cell_type": "code",
   "execution_count": 299,
   "metadata": {},
   "outputs": [
    {
     "data": {
      "text/plain": [
       "73.0"
      ]
     },
     "execution_count": 299,
     "metadata": {},
     "output_type": "execute_result"
    }
   ],
   "source": [
    "df.iloc[0].score"
   ]
  },
  {
   "cell_type": "code",
   "execution_count": null,
   "metadata": {},
   "outputs": [],
   "source": [
    "# Fetch the neccesary python modules\n",
    "import streamlit as st\n",
    "import pickle\n",
    "import pandas as pd\n",
    "import requests\n",
    "\n",
    "# Recommend movies based on content\n",
    "def recommend(movie):\n",
    "    movie_index = movies[movies['original_title'] == movie].index[0]\n",
    "    distances = similarity[movie_index]\n",
    "    movies_list = sorted(list(enumerate(distances)), reverse=True, key=lambda x: x[1])[1:6]\n",
    "\n",
    "    recommended_movies = []\n",
    "    recommended_movies_poster = []\n",
    "\n",
    "    # Fetch the posters for each recommended movie\n",
    "    for  i in movies_list:\n",
    "        movie_id = movies.iloc[i[0]].id\n",
    "        recommended_movies.append(movies.iloc[i[0]].original_title)\n",
    "        recommended_movies_poster.append(fetch_poster(movie_id))\n",
    "\n",
    "    return recommended_movies,recommended_movies_poster\n",
    "\n",
    "# Load the necessary python pickle files\n",
    "movies_dict = pickle.load(open('pickle/movie_dict.pkl','rb'))\n",
    "movies = pd.DataFrame(movies_dict)\n",
    "\n",
    "similarity = pickle.load(open('pickle/similarity.pkl','rb'))\n",
    "Next, we will fetch the posters of these movies by using the TMDb API. You can create your very own API by logging into the TMDb developers API-3 site. Remember to replace the API key (in line 3 below) with your own key.\n",
    "\n",
    "# Fetch posters from the TMDb database\n",
    "def fetch_poster(movie_id):\n",
    "    response = requests.get('https://api.themoviedb.org/3/movie/{}?api_key=ENTER_API_KEY_HERE&language=en-US'.format(movie_id))\n",
    "    data = response.json()\n",
    "    return \"https://image.tmdb.org/t/p/w500/\" + data['poster_path']\n",
    "\n",
    "# Web app's hero section - Display Title, Dropdown\n",
    "st.title(\"Movie Recommender System\")\n",
    "\n",
    "selected_movie_name = st.selectbox(\n",
    "'Select a movie to recommend',\n",
    "movies['original_title'].values)\n",
    "\n",
    "# Output recommendations with posters\n",
    "if st.button('Recommend'):\n",
    "    name, posters = recommend(selected_movie_name)\n",
    " \n",
    "    col1, col2, col3, col4,  col5 = st.columns(5)\n",
    "    with col1:\n",
    "        st.text(name[0])\n",
    "        st.image(posters[0])\n",
    "    with col2:\n",
    "        st.text(name[1])\n",
    "        st.image(posters[1])\n",
    "    with col3:\n",
    "        st.text(name[2])\n",
    "        st.image(posters[2])\n",
    "    with col4:\n",
    "        st.text(name[3])\n",
    "        st.image(posters[3])\n",
    "    with col5:\n",
    "        st.text(name[4])\n",
    "        st.image(posters[4])"
   ]
  },
  {
   "cell_type": "code",
   "execution_count": 271,
   "metadata": {},
   "outputs": [],
   "source": [
    "df_2.to_csv('df_2.csv')"
   ]
  },
  {
   "cell_type": "code",
   "execution_count": null,
   "metadata": {},
   "outputs": [],
   "source": []
  }
 ],
 "metadata": {
  "kernelspec": {
   "display_name": "Python 3",
   "language": "python",
   "name": "python3"
  },
  "language_info": {
   "codemirror_mode": {
    "name": "ipython",
    "version": 3
   },
   "file_extension": ".py",
   "mimetype": "text/x-python",
   "name": "python",
   "nbconvert_exporter": "python",
   "pygments_lexer": "ipython3",
   "version": "3.11.7"
  }
 },
 "nbformat": 4,
 "nbformat_minor": 2
}
